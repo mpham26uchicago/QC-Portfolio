{
 "cells": [
  {
   "cell_type": "code",
   "execution_count": 1,
   "id": "19adf63d",
   "metadata": {},
   "outputs": [
    {
     "name": "stderr",
     "output_type": "stream",
     "text": [
      "Duplicate key in file '/Users/minhpham/.matplotlib/matplotlibrc', line 2 ('backend: TkAgg')\n",
      "Duplicate key in file '/Users/minhpham/.matplotlib/matplotlibrc', line 3 ('backend: TkAgg')\n",
      "/Library/Frameworks/Python.framework/Versions/3.8/lib/python3.8/site-packages/qiskit/aqua/operators/operator_globals.py:48: DeprecationWarning: `from_label` is deprecated and will be removed no earlier than 3 months after the release date. Use Pauli(label) instead.\n",
      "  X = make_immutable(PrimitiveOp(Pauli.from_label('X')))\n"
     ]
    }
   ],
   "source": [
    "from frozen_yoghourt import *"
   ]
  },
  {
   "cell_type": "code",
   "execution_count": 154,
   "id": "b87ac2de",
   "metadata": {},
   "outputs": [],
   "source": [
    "## Total Difference function\n",
    "\n",
    "def cx_diff(y_hat, n):\n",
    "    qc = q(n+1)\n",
    "    qc.mct(list(range(n)), n)\n",
    "    y = get(qc, nice = False)\n",
    "    \n",
    "    diff = np.sum(np.abs(np.abs(y_hat) - y))\n",
    "    \n",
    "    return diff"
   ]
  },
  {
   "cell_type": "code",
   "execution_count": 2,
   "id": "3424af13",
   "metadata": {},
   "outputs": [],
   "source": [
    "# Define general loss function\n",
    "\n",
    "loss = lambda y_hat, y: np.mean(np.linalg.norm(np.abs(np.abs(y_hat) - y), axis = 0))/np.sqrt(2)"
   ]
  },
  {
   "cell_type": "code",
   "execution_count": 3,
   "id": "3d3e2a5e",
   "metadata": {},
   "outputs": [
    {
     "data": {
      "image/png": "[encoded data removed]",
      "text/plain": [
       "<Figure size 1110x325.08 with 1 Axes>"
      ]
     },
     "execution_count": 3,
     "metadata": {},
     "output_type": "execute_result"
    }
   ],
   "source": [
    "circ = q(5)\n",
    "circ.u(0, 0, 0, 4)\n",
    "circ.cx(3, 4)\n",
    "circ.u(0, 0, 0, 4)\n",
    "circ.cx(0, 4)\n",
    "circ.u(0, 0, 0, 4)\n",
    "circ.cx(1, 4)\n",
    "circ.u(0, 0, 0, 4)\n",
    "circ.cx(2, 4)\n",
    "circ.u(0, 0, 0, 4)\n",
    "circ.cx(0, 4)\n",
    "circ.u(0, 0, 0, 4)\n",
    "circ.cx(1, 4)\n",
    "circ.u(0, 0, 0, 4)\n",
    "circ.cx(2, 4)\n",
    "circ.u(0, 0, 0, 4)\n",
    "circ.cx(3, 4)\n",
    "circ.u(0, 0, 0, 4)\n",
    "\n",
    "milk(circ)"
   ]
  },
  {
   "cell_type": "code",
   "execution_count": null,
   "id": "c8ca6c26",
   "metadata": {
    "scrolled": true
   },
   "outputs": [],
   "source": [
    "# print Unpack angles\n",
    "'''for i in range(9):\n",
    "    print(f'U{i} = U(a[{3*i}], a[{3*i+1}], a[{3*i+2}])')'''\n",
    "    \n",
    "# print ### |state>\n",
    "'''i = 0\n",
    "for elem in product(['0', '1'], repeat = 4):\n",
    "    print(f\"### |{''.join(elem)}>\")\n",
    "    print(f\"Uh{i} = U8@\")\n",
    "    print('\\n')\n",
    "    i+=1'''\n",
    "\n",
    "'''for i in range(9):\n",
    "    print('circ.u(0, 0, 0, 4)')'''\n",
    "\n",
    "i = 0\n",
    "for elem in product(['0', '1'], repeat = 4):\n",
    "    print(f\"### |{''.join(elem)}>\")\n",
    "    print(f\"L{i} = loss(Uh{i}, I)\")\n",
    "    print('\\n')\n",
    "    i+=1\n",
    "\n"
   ]
  },
  {
   "cell_type": "code",
   "execution_count": 132,
   "id": "f33acc9f",
   "metadata": {},
   "outputs": [],
   "source": [
    "def cost_func(angles):\n",
    "    \n",
    "    a = angles\n",
    "    \n",
    "    # Unpack angles\n",
    "    \n",
    "    U0 = U(a[0], a[1], a[2])\n",
    "    U1 = U(a[3], a[4], a[5])\n",
    "    U2 = U(a[6], a[7], a[8])\n",
    "    U3 = U(a[9], a[10], a[11])\n",
    "    U4 = U(a[12], a[13], a[14])\n",
    "    U5 = U(a[15], a[16], a[17])\n",
    "    U6 = U(a[18], a[19], a[20])\n",
    "    U7 = U(a[21], a[22], a[23])\n",
    "    U8 = U(a[24], a[25], a[26])\n",
    "    \n",
    "\n",
    "    # Calculate the predicted value for each input (Uh: U hat)\n",
    "\n",
    "    ### |0000>\n",
    "    Uh0 = U8@U7@U6@U5@U4@U3@U2@U1@U0\n",
    "\n",
    "\n",
    "    ### |0001>\n",
    "    Uh1 = U8@U7@U6@U5@(X)@U4@U3@U2@(X)@U1@U0\n",
    "\n",
    "\n",
    "    ### |0010>\n",
    "    Uh2 = U8@U7@U6@(X)@U5@U4@U3@(X)@U2@U1@U0\n",
    "\n",
    "\n",
    "    ### |0011>\n",
    "    Uh3 = U8@U7@U6@(X)@U5@(X)@U4@U3@(X)@U2@(X)@U1@U0\n",
    "\n",
    "\n",
    "    ### |0100>\n",
    "    Uh4 = U8@U7@(X)@U6@U5@U4@(X)@U3@U2@U1@U0\n",
    "\n",
    "\n",
    "    ### |0101>\n",
    "    Uh5 = U8@U7@(X)@U6@U5@(X)@U4@(X)@U3@U2@(X)@U1@U0\n",
    "\n",
    "\n",
    "    ### |0110>\n",
    "    Uh6 = U8@U7@(X)@U6@(X)@U5@U4@(X)@U3@(X)@U2@U1@U0\n",
    "\n",
    "\n",
    "    ### |0111>\n",
    "    Uh7 = U8@U7@(X)@U6@(X)@U5@(X)@U4@(X)@U3@(X)@U2@(X)@U1@U0\n",
    "\n",
    "\n",
    "    ### |1000>\n",
    "    Uh8 = U8@(X)@U7@U6@U5@U4@U3@U2@U1@(X)@U0\n",
    "\n",
    "\n",
    "    ### |1001>\n",
    "    Uh9 = U8@(X)@U7@U6@U5@(X)@U4@U3@U2@(X)@U1@(X)@U0\n",
    "\n",
    "\n",
    "    ### |1010>\n",
    "    Uh10 = U8@(X)@U7@U6@(X)@U5@U4@U3@(X)@U2@U1@(X)@U0\n",
    "\n",
    "\n",
    "    ### |1011>\n",
    "    Uh11 = U8@(X)@U7@U6@(X)@U5@(X)@U4@U3@(X)@U2@(X)@U1@(X)@U0\n",
    "\n",
    "\n",
    "    ### |1100>\n",
    "    Uh12 = U8@(X)@U7@(X)@U6@U5@U4@(X)@U3@U2@U1@(X)@U0\n",
    "\n",
    "\n",
    "    ### |1101>\n",
    "    Uh13 = U8@(X)@U7@(X)@U6@U5@(X)@U4@(X)@U3@U2@(X)@U1@(X)@U0\n",
    "\n",
    "\n",
    "    ### |1110>\n",
    "    Uh14 = U8@(X)@U7@(X)@U6@(X)@U5@U4@(X)@U3@(X)@U2@U1@(X)@U0\n",
    "\n",
    "\n",
    "    ### |1111>\n",
    "    Uh15 = U8@(X)@U7@(X)@U6@(X)@U5@(X)@U4@(X)@U3@(X)@U2@(X)@U1@(X)@U0\n",
    "\n",
    "    # Calculate the loss function for each input\n",
    "\n",
    "    ### |0000>\n",
    "    L0 = loss(Uh0, I)\n",
    "\n",
    "\n",
    "    ### |0001>\n",
    "    L1 = loss(Uh1, I)\n",
    "\n",
    "\n",
    "    ### |0010>\n",
    "    L2 = loss(Uh2, I)\n",
    "\n",
    "\n",
    "    ### |0011>\n",
    "    L3 = loss(Uh3, I)\n",
    "\n",
    "\n",
    "    ### |0100>\n",
    "    L4 = loss(Uh4, I)\n",
    "\n",
    "\n",
    "    ### |0101>\n",
    "    L5 = loss(Uh5, I)\n",
    "\n",
    "\n",
    "    ### |0110>\n",
    "    L6 = loss(Uh6, I)\n",
    "\n",
    "\n",
    "    ### |0111>\n",
    "    L7 = loss(Uh7, I)\n",
    "\n",
    "\n",
    "    ### |1000>\n",
    "    L8 = loss(Uh8, I)\n",
    "\n",
    "\n",
    "    ### |1001>\n",
    "    L9 = loss(Uh9, I)\n",
    "\n",
    "\n",
    "    ### |1010>\n",
    "    L10 = loss(Uh10, I)\n",
    "\n",
    "\n",
    "    ### |1011>\n",
    "    L11 = loss(Uh11, I)\n",
    "\n",
    "\n",
    "    ### |1100>\n",
    "    L12 = loss(Uh12, I)\n",
    "\n",
    "\n",
    "    ### |1101>\n",
    "    L13 = loss(Uh13, I)\n",
    "\n",
    "\n",
    "    ### |1110>\n",
    "    L14 = loss(Uh14, I)\n",
    "\n",
    "\n",
    "    ### |1111>\n",
    "    L15 = loss(Uh15, X)\n",
    "\n",
    "    # Calculate cost\n",
    "    cost = (L0 + L1 + L2 + L3 + L4 + L5 + L6 + L7 + L8 + L9 + L10 + L11 + L12 + L13 + L14 + L15*3)/18\n",
    "    \n",
    "    return cost"
   ]
  },
  {
   "cell_type": "code",
   "execution_count": 133,
   "id": "409bf51c",
   "metadata": {},
   "outputs": [
    {
     "data": {
      "text/plain": [
       "'trust-krylov'"
      ]
     },
     "execution_count": 133,
     "metadata": {},
     "output_type": "execute_result"
    }
   ],
   "source": [
    "import scipy as sp\n",
    "\n",
    "# Optimizer List\n",
    "\n",
    "\"Nelder-Mead\" \n",
    "\"Powell\" \n",
    "\"CG\" \n",
    "\"BFGS\" \n",
    "\"Newton-CG\" \n",
    "\"L-BFGS-B\" \n",
    "\"TNC\" \n",
    "\"COBYLA\" \n",
    "\"SLSQP\" \n",
    "\"trust-constr\"\n",
    "\"dogleg\" \n",
    "\"trust-ncg\" \n",
    "\"trust-exact\" \n",
    "\"trust-krylov\" "
   ]
  },
  {
   "cell_type": "code",
   "execution_count": 155,
   "id": "1882c455",
   "metadata": {},
   "outputs": [],
   "source": [
    "# x0 = np.random.uniform(low = 0, high = 2*np.pi, size = (27,))\n",
    "# x0 =result.x\n",
    "\n",
    "x0 = np.array([4.08628145e+00, 5.10228842e-01, 5.02921185e+04, 3.77174655e+00,\n",
    "       2.54051802e-01, 1.89761078e+00, 8.45530827e+00, 1.06927437e+00,\n",
    "       1.96164922e+00, 5.59759012e+00, 1.05160686e+00, 1.25673364e+00,\n",
    "       3.99978154e+00, 1.94503351e+00, 3.39294634e+00, 7.40930411e-01,\n",
    "       2.44615381e+00, 3.39098240e+00, 5.16336726e+00, 3.89880623e+00,\n",
    "       4.78140049e+00, 4.69593081e+00, 3.92909479e+00, 4.62667306e+00,\n",
    "       4.60837047e+00, 2.75634591e+05, 5.50323601e+00])\n",
    "\n",
    "# Optimize Parameters\n",
    "\n",
    "result = sp.optimize.minimize(cost_func, x0, method = \"Nelder-Mead\" )\n",
    "\n",
    "# Unpacking the trained parameters\n",
    "a = result.x"
   ]
  },
  {
   "cell_type": "code",
   "execution_count": 157,
   "id": "39d6a1fe",
   "metadata": {},
   "outputs": [
    {
     "data": {
      "image/png": "[encoded data removed]",
      "text/plain": [
       "<Figure size 1591.6x686.28 with 1 Axes>"
      ]
     },
     "execution_count": 157,
     "metadata": {},
     "output_type": "execute_result"
    }
   ],
   "source": [
    "a = np.array([4.08628145e+00, 5.10228842e-01, 5.02921185e+04, 3.77174655e+00,\n",
    "       2.54051802e-01, 1.89761078e+00, 8.45530827e+00, 1.06927437e+00,\n",
    "       1.96164922e+00, 5.59759012e+00, 1.05160686e+00, 1.25673364e+00,\n",
    "       3.99978154e+00, 1.94503351e+00, 3.39294634e+00, 7.40930411e-01,\n",
    "       2.44615381e+00, 3.39098240e+00, 5.16336726e+00, 3.89880623e+00,\n",
    "       4.78140049e+00, 4.69593081e+00, 3.92909479e+00, 4.62667306e+00,\n",
    "       4.60837047e+00, 2.75634591e+05, 5.50323601e+00])\n",
    "\n",
    "circ = q(5)\n",
    "\n",
    "circ.u(a[0], a[1], a[2], 4)\n",
    "circ.cx(3, 4)\n",
    "circ.u(a[3], a[4], a[5], 4)\n",
    "circ.cx(0, 4)\n",
    "circ.u(a[6], a[7], a[8], 4)\n",
    "circ.cx(1, 4)\n",
    "circ.u(a[9], a[10], a[11], 4)\n",
    "circ.cx(2, 4)\n",
    "circ.u(a[12], a[13], a[14], 4)\n",
    "circ.cx(0, 4)\n",
    "circ.u(a[15], a[16], a[17], 4)\n",
    "circ.cx(1, 4)\n",
    "circ.u(a[18], a[19], a[20], 4)\n",
    "circ.cx(2, 4)\n",
    "circ.u(a[21], a[22], a[23], 4)\n",
    "circ.cx(3, 4)\n",
    "circ.u(a[24], a[25], a[26], 4)\n",
    "\n",
    "milk(circ)"
   ]
  },
  {
   "cell_type": "code",
   "execution_count": 158,
   "id": "f6527b2f",
   "metadata": {},
   "outputs": [],
   "source": [
    "a = np.abs(get(circ, nice = False))"
   ]
  },
  {
   "cell_type": "code",
   "execution_count": 159,
   "id": "f6068fb9",
   "metadata": {},
   "outputs": [
    {
     "data": {
      "text/latex": [
       "$\\displaystyle \\left[\\begin{array}{cccccccccccccccccccccccccccccccc}1.0 & 0.0 & 0.0 & 0.0 & 0.0 & 0.0 & 0.0 & 0.0 & 0.0 & 0.0 & 0.0 & 0.0 & 0.0 & 0.0 & 0.0 & 0.0 & 9.146 \\cdot 10^{-7} & 0.0 & 0.0 & 0.0 & 0.0 & 0.0 & 0.0 & 0.0 & 0.0 & 0.0 & 0.0 & 0.0 & 0.0 & 0.0 & 0.0 & 0.0\\\\0.0 & 1.0 & 0.0 & 0.0 & 0.0 & 0.0 & 0.0 & 0.0 & 0.0 & 0.0 & 0.0 & 0.0 & 0.0 & 0.0 & 0.0 & 0.0 & 0.0 & 1.1371 \\cdot 10^{-6} & 0.0 & 0.0 & 0.0 & 0.0 & 0.0 & 0.0 & 0.0 & 0.0 & 0.0 & 0.0 & 0.0 & 0.0 & 0.0 & 0.0\\\\0.0 & 0.0 & 1.0 & 0.0 & 0.0 & 0.0 & 0.0 & 0.0 & 0.0 & 0.0 & 0.0 & 0.0 & 0.0 & 0.0 & 0.0 & 0.0 & 0.0 & 0.0 & 2.3509 \\cdot 10^{-6} & 0.0 & 0.0 & 0.0 & 0.0 & 0.0 & 0.0 & 0.0 & 0.0 & 0.0 & 0.0 & 0.0 & 0.0 & 0.0\\\\0.0 & 0.0 & 0.0 & 1.0 & 0.0 & 0.0 & 0.0 & 0.0 & 0.0 & 0.0 & 0.0 & 0.0 & 0.0 & 0.0 & 0.0 & 0.0 & 0.0 & 0.0 & 0.0 & 2.3159 \\cdot 10^{-6} & 0.0 & 0.0 & 0.0 & 0.0 & 0.0 & 0.0 & 0.0 & 0.0 & 0.0 & 0.0 & 0.0 & 0.0\\\\0.0 & 0.0 & 0.0 & 0.0 & 1.0 & 0.0 & 0.0 & 0.0 & 0.0 & 0.0 & 0.0 & 0.0 & 0.0 & 0.0 & 0.0 & 0.0 & 0.0 & 0.0 & 0.0 & 0.0 & 2.089 \\cdot 10^{-7} & 0.0 & 0.0 & 0.0 & 0.0 & 0.0 & 0.0 & 0.0 & 0.0 & 0.0 & 0.0 & 0.0\\\\0.0 & 0.0 & 0.0 & 0.0 & 0.0 & 1.0 & 0.0 & 0.0 & 0.0 & 0.0 & 0.0 & 0.0 & 0.0 & 0.0 & 0.0 & 0.0 & 0.0 & 0.0 & 0.0 & 0.0 & 0.0 & 7.072 \\cdot 10^{-7} & 0.0 & 0.0 & 0.0 & 0.0 & 0.0 & 0.0 & 0.0 & 0.0 & 0.0 & 0.0\\\\0.0 & 0.0 & 0.0 & 0.0 & 0.0 & 0.0 & 1.0 & 0.0 & 0.0 & 0.0 & 0.0 & 0.0 & 0.0 & 0.0 & 0.0 & 0.0 & 0.0 & 0.0 & 0.0 & 0.0 & 0.0 & 0.0 & 4.68 \\cdot 10^{-8} & 0.0 & 0.0 & 0.0 & 0.0 & 0.0 & 0.0 & 0.0 & 0.0 & 0.0\\\\0.0 & 0.0 & 0.0 & 0.0 & 0.0 & 0.0 & 0.0 & 1.0 & 0.0 & 0.0 & 0.0 & 0.0 & 0.0 & 0.0 & 0.0 & 0.0 & 0.0 & 0.0 & 0.0 & 0.0 & 0.0 & 0.0 & 0.0 & 3.0 \\cdot 10^{-10} & 0.0 & 0.0 & 0.0 & 0.0 & 0.0 & 0.0 & 0.0 & 0.0\\\\0.0 & 0.0 & 0.0 & 0.0 & 0.0 & 0.0 & 0.0 & 0.0 & 1.0 & 0.0 & 0.0 & 0.0 & 0.0 & 0.0 & 0.0 & 0.0 & 0.0 & 0.0 & 0.0 & 0.0 & 0.0 & 0.0 & 0.0 & 0.0 & 5.07 \\cdot 10^{-8} & 0.0 & 0.0 & 0.0 & 0.0 & 0.0 & 0.0 & 0.0\\\\0.0 & 0.0 & 0.0 & 0.0 & 0.0 & 0.0 & 0.0 & 0.0 & 0.0 & 1.0 & 0.0 & 0.0 & 0.0 & 0.0 & 0.0 & 0.0 & 0.0 & 0.0 & 0.0 & 0.0 & 0.0 & 0.0 & 0.0 & 0.0 & 0.0 & 1.554 \\cdot 10^{-7} & 0.0 & 0.0 & 0.0 & 0.0 & 0.0 & 0.0\\\\0.0 & 0.0 & 0.0 & 0.0 & 0.0 & 0.0 & 0.0 & 0.0 & 0.0 & 0.0 & 4.6113 \\cdot 10^{-6} & 0.0 & 0.0 & 0.0 & 0.0 & 0.0 & 0.0 & 0.0 & 0.0 & 0.0 & 0.0 & 0.0 & 0.0 & 0.0 & 0.0 & 0.0 & 1.0 & 0.0 & 0.0 & 0.0 & 0.0 & 0.0\\\\0.0 & 0.0 & 0.0 & 0.0 & 0.0 & 0.0 & 0.0 & 0.0 & 0.0 & 0.0 & 0.0 & 1.0 & 0.0 & 0.0 & 0.0 & 0.0 & 0.0 & 0.0 & 0.0 & 0.0 & 0.0 & 0.0 & 0.0 & 0.0 & 0.0 & 0.0 & 0.0 & 4.4364 \\cdot 10^{-6} & 0.0 & 0.0 & 0.0 & 0.0\\\\0.0 & 0.0 & 0.0 & 0.0 & 0.0 & 0.0 & 0.0 & 0.0 & 0.0 & 0.0 & 0.0 & 0.0 & 1.0 & 0.0 & 0.0 & 0.0 & 0.0 & 0.0 & 0.0 & 0.0 & 0.0 & 0.0 & 0.0 & 0.0 & 0.0 & 0.0 & 0.0 & 0.0 & 3.9351 \\cdot 10^{-6} & 0.0 & 0.0 & 0.0\\\\0.0 & 0.0 & 0.0 & 0.0 & 0.0 & 0.0 & 0.0 & 0.0 & 0.0 & 0.0 & 0.0 & 0.0 & 0.0 & 1.0 & 0.0 & 0.0 & 0.0 & 0.0 & 0.0 & 0.0 & 0.0 & 0.0 & 0.0 & 0.0 & 0.0 & 0.0 & 0.0 & 0.0 & 0.0 & 2.6176 \\cdot 10^{-6} & 0.0 & 0.0\\\\0.0 & 0.0 & 0.0 & 0.0 & 0.0 & 0.0 & 0.0 & 0.0 & 0.0 & 0.0 & 0.0 & 0.0 & 0.0 & 0.0 & 1.0 & 0.0 & 0.0 & 0.0 & 0.0 & 0.0 & 0.0 & 0.0 & 0.0 & 0.0 & 0.0 & 0.0 & 0.0 & 0.0 & 0.0 & 0.0 & 1.8947 \\cdot 10^{-6} & 0.0\\\\0.0 & 0.0 & 0.0 & 0.0 & 0.0 & 0.0 & 0.0 & 0.0 & 0.0 & 0.0 & 0.0 & 0.0 & 0.0 & 0.0 & 0.0 & 1.8 \\cdot 10^{-9} & 0.0 & 0.0 & 0.0 & 0.0 & 0.0 & 0.0 & 0.0 & 0.0 & 0.0 & 0.0 & 0.0 & 0.0 & 0.0 & 0.0 & 0.0 & 1.0\\\\9.147 \\cdot 10^{-7} & 0.0 & 0.0 & 0.0 & 0.0 & 0.0 & 0.0 & 0.0 & 0.0 & 0.0 & 0.0 & 0.0 & 0.0 & 0.0 & 0.0 & 0.0 & 1.0 & 0.0 & 0.0 & 0.0 & 0.0 & 0.0 & 0.0 & 0.0 & 0.0 & 0.0 & 0.0 & 0.0 & 0.0 & 0.0 & 0.0 & 0.0\\\\0.0 & 1.1371 \\cdot 10^{-6} & 0.0 & 0.0 & 0.0 & 0.0 & 0.0 & 0.0 & 0.0 & 0.0 & 0.0 & 0.0 & 0.0 & 0.0 & 0.0 & 0.0 & 0.0 & 1.0 & 0.0 & 0.0 & 0.0 & 0.0 & 0.0 & 0.0 & 0.0 & 0.0 & 0.0 & 0.0 & 0.0 & 0.0 & 0.0 & 0.0\\\\0.0 & 0.0 & 2.3509 \\cdot 10^{-6} & 0.0 & 0.0 & 0.0 & 0.0 & 0.0 & 0.0 & 0.0 & 0.0 & 0.0 & 0.0 & 0.0 & 0.0 & 0.0 & 0.0 & 0.0 & 1.0 & 0.0 & 0.0 & 0.0 & 0.0 & 0.0 & 0.0 & 0.0 & 0.0 & 0.0 & 0.0 & 0.0 & 0.0 & 0.0\\\\0.0 & 0.0 & 0.0 & 2.3159 \\cdot 10^{-6} & 0.0 & 0.0 & 0.0 & 0.0 & 0.0 & 0.0 & 0.0 & 0.0 & 0.0 & 0.0 & 0.0 & 0.0 & 0.0 & 0.0 & 0.0 & 1.0 & 0.0 & 0.0 & 0.0 & 0.0 & 0.0 & 0.0 & 0.0 & 0.0 & 0.0 & 0.0 & 0.0 & 0.0\\\\0.0 & 0.0 & 0.0 & 0.0 & 2.089 \\cdot 10^{-7} & 0.0 & 0.0 & 0.0 & 0.0 & 0.0 & 0.0 & 0.0 & 0.0 & 0.0 & 0.0 & 0.0 & 0.0 & 0.0 & 0.0 & 0.0 & 1.0 & 0.0 & 0.0 & 0.0 & 0.0 & 0.0 & 0.0 & 0.0 & 0.0 & 0.0 & 0.0 & 0.0\\\\0.0 & 0.0 & 0.0 & 0.0 & 0.0 & 7.072 \\cdot 10^{-7} & 0.0 & 0.0 & 0.0 & 0.0 & 0.0 & 0.0 & 0.0 & 0.0 & 0.0 & 0.0 & 0.0 & 0.0 & 0.0 & 0.0 & 0.0 & 1.0 & 0.0 & 0.0 & 0.0 & 0.0 & 0.0 & 0.0 & 0.0 & 0.0 & 0.0 & 0.0\\\\0.0 & 0.0 & 0.0 & 0.0 & 0.0 & 0.0 & 4.68 \\cdot 10^{-8} & 0.0 & 0.0 & 0.0 & 0.0 & 0.0 & 0.0 & 0.0 & 0.0 & 0.0 & 0.0 & 0.0 & 0.0 & 0.0 & 0.0 & 0.0 & 1.0 & 0.0 & 0.0 & 0.0 & 0.0 & 0.0 & 0.0 & 0.0 & 0.0 & 0.0\\\\0.0 & 0.0 & 0.0 & 0.0 & 0.0 & 0.0 & 0.0 & 3.0 \\cdot 10^{-10} & 0.0 & 0.0 & 0.0 & 0.0 & 0.0 & 0.0 & 0.0 & 0.0 & 0.0 & 0.0 & 0.0 & 0.0 & 0.0 & 0.0 & 0.0 & 1.0 & 0.0 & 0.0 & 0.0 & 0.0 & 0.0 & 0.0 & 0.0 & 0.0\\\\0.0 & 0.0 & 0.0 & 0.0 & 0.0 & 0.0 & 0.0 & 0.0 & 5.07 \\cdot 10^{-8} & 0.0 & 0.0 & 0.0 & 0.0 & 0.0 & 0.0 & 0.0 & 0.0 & 0.0 & 0.0 & 0.0 & 0.0 & 0.0 & 0.0 & 0.0 & 1.0 & 0.0 & 0.0 & 0.0 & 0.0 & 0.0 & 0.0 & 0.0\\\\0.0 & 0.0 & 0.0 & 0.0 & 0.0 & 0.0 & 0.0 & 0.0 & 0.0 & 1.554 \\cdot 10^{-7} & 0.0 & 0.0 & 0.0 & 0.0 & 0.0 & 0.0 & 0.0 & 0.0 & 0.0 & 0.0 & 0.0 & 0.0 & 0.0 & 0.0 & 0.0 & 1.0 & 0.0 & 0.0 & 0.0 & 0.0 & 0.0 & 0.0\\\\0.0 & 0.0 & 0.0 & 0.0 & 0.0 & 0.0 & 0.0 & 0.0 & 0.0 & 0.0 & 1.0 & 0.0 & 0.0 & 0.0 & 0.0 & 0.0 & 0.0 & 0.0 & 0.0 & 0.0 & 0.0 & 0.0 & 0.0 & 0.0 & 0.0 & 0.0 & 4.6113 \\cdot 10^{-6} & 0.0 & 0.0 & 0.0 & 0.0 & 0.0\\\\0.0 & 0.0 & 0.0 & 0.0 & 0.0 & 0.0 & 0.0 & 0.0 & 0.0 & 0.0 & 0.0 & 4.4364 \\cdot 10^{-6} & 0.0 & 0.0 & 0.0 & 0.0 & 0.0 & 0.0 & 0.0 & 0.0 & 0.0 & 0.0 & 0.0 & 0.0 & 0.0 & 0.0 & 0.0 & 1.0 & 0.0 & 0.0 & 0.0 & 0.0\\\\0.0 & 0.0 & 0.0 & 0.0 & 0.0 & 0.0 & 0.0 & 0.0 & 0.0 & 0.0 & 0.0 & 0.0 & 3.9351 \\cdot 10^{-6} & 0.0 & 0.0 & 0.0 & 0.0 & 0.0 & 0.0 & 0.0 & 0.0 & 0.0 & 0.0 & 0.0 & 0.0 & 0.0 & 0.0 & 0.0 & 1.0 & 0.0 & 0.0 & 0.0\\\\0.0 & 0.0 & 0.0 & 0.0 & 0.0 & 0.0 & 0.0 & 0.0 & 0.0 & 0.0 & 0.0 & 0.0 & 0.0 & 2.6177 \\cdot 10^{-6} & 0.0 & 0.0 & 0.0 & 0.0 & 0.0 & 0.0 & 0.0 & 0.0 & 0.0 & 0.0 & 0.0 & 0.0 & 0.0 & 0.0 & 0.0 & 1.0 & 0.0 & 0.0\\\\0.0 & 0.0 & 0.0 & 0.0 & 0.0 & 0.0 & 0.0 & 0.0 & 0.0 & 0.0 & 0.0 & 0.0 & 0.0 & 0.0 & 1.8947 \\cdot 10^{-6} & 0.0 & 0.0 & 0.0 & 0.0 & 0.0 & 0.0 & 0.0 & 0.0 & 0.0 & 0.0 & 0.0 & 0.0 & 0.0 & 0.0 & 0.0 & 1.0 & 0.0\\\\0.0 & 0.0 & 0.0 & 0.0 & 0.0 & 0.0 & 0.0 & 0.0 & 0.0 & 0.0 & 0.0 & 0.0 & 0.0 & 0.0 & 0.0 & 1.0 & 0.0 & 0.0 & 0.0 & 0.0 & 0.0 & 0.0 & 0.0 & 0.0 & 0.0 & 0.0 & 0.0 & 0.0 & 0.0 & 0.0 & 0.0 & 1.8 \\cdot 10^{-9}\\end{array}\\right]$"
      ],
      "text/plain": [
       "Matrix([\n",
       "[     1.0,       0.0,       0.0,       0.0,      0.0,      0.0,     0.0,     0.0,     0.0,      0.0,       0.0,       0.0,       0.0,       0.0,       0.0,    0.0, 9.146e-7,       0.0,       0.0,       0.0,      0.0,      0.0,     0.0,     0.0,     0.0,      0.0,       0.0,       0.0,       0.0,       0.0,       0.0,    0.0],\n",
       "[     0.0,       1.0,       0.0,       0.0,      0.0,      0.0,     0.0,     0.0,     0.0,      0.0,       0.0,       0.0,       0.0,       0.0,       0.0,    0.0,      0.0, 1.1371e-6,       0.0,       0.0,      0.0,      0.0,     0.0,     0.0,     0.0,      0.0,       0.0,       0.0,       0.0,       0.0,       0.0,    0.0],\n",
       "[     0.0,       0.0,       1.0,       0.0,      0.0,      0.0,     0.0,     0.0,     0.0,      0.0,       0.0,       0.0,       0.0,       0.0,       0.0,    0.0,      0.0,       0.0, 2.3509e-6,       0.0,      0.0,      0.0,     0.0,     0.0,     0.0,      0.0,       0.0,       0.0,       0.0,       0.0,       0.0,    0.0],\n",
       "[     0.0,       0.0,       0.0,       1.0,      0.0,      0.0,     0.0,     0.0,     0.0,      0.0,       0.0,       0.0,       0.0,       0.0,       0.0,    0.0,      0.0,       0.0,       0.0, 2.3159e-6,      0.0,      0.0,     0.0,     0.0,     0.0,      0.0,       0.0,       0.0,       0.0,       0.0,       0.0,    0.0],\n",
       "[     0.0,       0.0,       0.0,       0.0,      1.0,      0.0,     0.0,     0.0,     0.0,      0.0,       0.0,       0.0,       0.0,       0.0,       0.0,    0.0,      0.0,       0.0,       0.0,       0.0, 2.089e-7,      0.0,     0.0,     0.0,     0.0,      0.0,       0.0,       0.0,       0.0,       0.0,       0.0,    0.0],\n",
       "[     0.0,       0.0,       0.0,       0.0,      0.0,      1.0,     0.0,     0.0,     0.0,      0.0,       0.0,       0.0,       0.0,       0.0,       0.0,    0.0,      0.0,       0.0,       0.0,       0.0,      0.0, 7.072e-7,     0.0,     0.0,     0.0,      0.0,       0.0,       0.0,       0.0,       0.0,       0.0,    0.0],\n",
       "[     0.0,       0.0,       0.0,       0.0,      0.0,      0.0,     1.0,     0.0,     0.0,      0.0,       0.0,       0.0,       0.0,       0.0,       0.0,    0.0,      0.0,       0.0,       0.0,       0.0,      0.0,      0.0, 4.68e-8,     0.0,     0.0,      0.0,       0.0,       0.0,       0.0,       0.0,       0.0,    0.0],\n",
       "[     0.0,       0.0,       0.0,       0.0,      0.0,      0.0,     0.0,     1.0,     0.0,      0.0,       0.0,       0.0,       0.0,       0.0,       0.0,    0.0,      0.0,       0.0,       0.0,       0.0,      0.0,      0.0,     0.0, 3.0e-10,     0.0,      0.0,       0.0,       0.0,       0.0,       0.0,       0.0,    0.0],\n",
       "[     0.0,       0.0,       0.0,       0.0,      0.0,      0.0,     0.0,     0.0,     1.0,      0.0,       0.0,       0.0,       0.0,       0.0,       0.0,    0.0,      0.0,       0.0,       0.0,       0.0,      0.0,      0.0,     0.0,     0.0, 5.07e-8,      0.0,       0.0,       0.0,       0.0,       0.0,       0.0,    0.0],\n",
       "[     0.0,       0.0,       0.0,       0.0,      0.0,      0.0,     0.0,     0.0,     0.0,      1.0,       0.0,       0.0,       0.0,       0.0,       0.0,    0.0,      0.0,       0.0,       0.0,       0.0,      0.0,      0.0,     0.0,     0.0,     0.0, 1.554e-7,       0.0,       0.0,       0.0,       0.0,       0.0,    0.0],\n",
       "[     0.0,       0.0,       0.0,       0.0,      0.0,      0.0,     0.0,     0.0,     0.0,      0.0, 4.6113e-6,       0.0,       0.0,       0.0,       0.0,    0.0,      0.0,       0.0,       0.0,       0.0,      0.0,      0.0,     0.0,     0.0,     0.0,      0.0,       1.0,       0.0,       0.0,       0.0,       0.0,    0.0],\n",
       "[     0.0,       0.0,       0.0,       0.0,      0.0,      0.0,     0.0,     0.0,     0.0,      0.0,       0.0,       1.0,       0.0,       0.0,       0.0,    0.0,      0.0,       0.0,       0.0,       0.0,      0.0,      0.0,     0.0,     0.0,     0.0,      0.0,       0.0, 4.4364e-6,       0.0,       0.0,       0.0,    0.0],\n",
       "[     0.0,       0.0,       0.0,       0.0,      0.0,      0.0,     0.0,     0.0,     0.0,      0.0,       0.0,       0.0,       1.0,       0.0,       0.0,    0.0,      0.0,       0.0,       0.0,       0.0,      0.0,      0.0,     0.0,     0.0,     0.0,      0.0,       0.0,       0.0, 3.9351e-6,       0.0,       0.0,    0.0],\n",
       "[     0.0,       0.0,       0.0,       0.0,      0.0,      0.0,     0.0,     0.0,     0.0,      0.0,       0.0,       0.0,       0.0,       1.0,       0.0,    0.0,      0.0,       0.0,       0.0,       0.0,      0.0,      0.0,     0.0,     0.0,     0.0,      0.0,       0.0,       0.0,       0.0, 2.6176e-6,       0.0,    0.0],\n",
       "[     0.0,       0.0,       0.0,       0.0,      0.0,      0.0,     0.0,     0.0,     0.0,      0.0,       0.0,       0.0,       0.0,       0.0,       1.0,    0.0,      0.0,       0.0,       0.0,       0.0,      0.0,      0.0,     0.0,     0.0,     0.0,      0.0,       0.0,       0.0,       0.0,       0.0, 1.8947e-6,    0.0],\n",
       "[     0.0,       0.0,       0.0,       0.0,      0.0,      0.0,     0.0,     0.0,     0.0,      0.0,       0.0,       0.0,       0.0,       0.0,       0.0, 1.8e-9,      0.0,       0.0,       0.0,       0.0,      0.0,      0.0,     0.0,     0.0,     0.0,      0.0,       0.0,       0.0,       0.0,       0.0,       0.0,    1.0],\n",
       "[9.147e-7,       0.0,       0.0,       0.0,      0.0,      0.0,     0.0,     0.0,     0.0,      0.0,       0.0,       0.0,       0.0,       0.0,       0.0,    0.0,      1.0,       0.0,       0.0,       0.0,      0.0,      0.0,     0.0,     0.0,     0.0,      0.0,       0.0,       0.0,       0.0,       0.0,       0.0,    0.0],\n",
       "[     0.0, 1.1371e-6,       0.0,       0.0,      0.0,      0.0,     0.0,     0.0,     0.0,      0.0,       0.0,       0.0,       0.0,       0.0,       0.0,    0.0,      0.0,       1.0,       0.0,       0.0,      0.0,      0.0,     0.0,     0.0,     0.0,      0.0,       0.0,       0.0,       0.0,       0.0,       0.0,    0.0],\n",
       "[     0.0,       0.0, 2.3509e-6,       0.0,      0.0,      0.0,     0.0,     0.0,     0.0,      0.0,       0.0,       0.0,       0.0,       0.0,       0.0,    0.0,      0.0,       0.0,       1.0,       0.0,      0.0,      0.0,     0.0,     0.0,     0.0,      0.0,       0.0,       0.0,       0.0,       0.0,       0.0,    0.0],\n",
       "[     0.0,       0.0,       0.0, 2.3159e-6,      0.0,      0.0,     0.0,     0.0,     0.0,      0.0,       0.0,       0.0,       0.0,       0.0,       0.0,    0.0,      0.0,       0.0,       0.0,       1.0,      0.0,      0.0,     0.0,     0.0,     0.0,      0.0,       0.0,       0.0,       0.0,       0.0,       0.0,    0.0],\n",
       "[     0.0,       0.0,       0.0,       0.0, 2.089e-7,      0.0,     0.0,     0.0,     0.0,      0.0,       0.0,       0.0,       0.0,       0.0,       0.0,    0.0,      0.0,       0.0,       0.0,       0.0,      1.0,      0.0,     0.0,     0.0,     0.0,      0.0,       0.0,       0.0,       0.0,       0.0,       0.0,    0.0],\n",
       "[     0.0,       0.0,       0.0,       0.0,      0.0, 7.072e-7,     0.0,     0.0,     0.0,      0.0,       0.0,       0.0,       0.0,       0.0,       0.0,    0.0,      0.0,       0.0,       0.0,       0.0,      0.0,      1.0,     0.0,     0.0,     0.0,      0.0,       0.0,       0.0,       0.0,       0.0,       0.0,    0.0],\n",
       "[     0.0,       0.0,       0.0,       0.0,      0.0,      0.0, 4.68e-8,     0.0,     0.0,      0.0,       0.0,       0.0,       0.0,       0.0,       0.0,    0.0,      0.0,       0.0,       0.0,       0.0,      0.0,      0.0,     1.0,     0.0,     0.0,      0.0,       0.0,       0.0,       0.0,       0.0,       0.0,    0.0],\n",
       "[     0.0,       0.0,       0.0,       0.0,      0.0,      0.0,     0.0, 3.0e-10,     0.0,      0.0,       0.0,       0.0,       0.0,       0.0,       0.0,    0.0,      0.0,       0.0,       0.0,       0.0,      0.0,      0.0,     0.0,     1.0,     0.0,      0.0,       0.0,       0.0,       0.0,       0.0,       0.0,    0.0],\n",
       "[     0.0,       0.0,       0.0,       0.0,      0.0,      0.0,     0.0,     0.0, 5.07e-8,      0.0,       0.0,       0.0,       0.0,       0.0,       0.0,    0.0,      0.0,       0.0,       0.0,       0.0,      0.0,      0.0,     0.0,     0.0,     1.0,      0.0,       0.0,       0.0,       0.0,       0.0,       0.0,    0.0],\n",
       "[     0.0,       0.0,       0.0,       0.0,      0.0,      0.0,     0.0,     0.0,     0.0, 1.554e-7,       0.0,       0.0,       0.0,       0.0,       0.0,    0.0,      0.0,       0.0,       0.0,       0.0,      0.0,      0.0,     0.0,     0.0,     0.0,      1.0,       0.0,       0.0,       0.0,       0.0,       0.0,    0.0],\n",
       "[     0.0,       0.0,       0.0,       0.0,      0.0,      0.0,     0.0,     0.0,     0.0,      0.0,       1.0,       0.0,       0.0,       0.0,       0.0,    0.0,      0.0,       0.0,       0.0,       0.0,      0.0,      0.0,     0.0,     0.0,     0.0,      0.0, 4.6113e-6,       0.0,       0.0,       0.0,       0.0,    0.0],\n",
       "[     0.0,       0.0,       0.0,       0.0,      0.0,      0.0,     0.0,     0.0,     0.0,      0.0,       0.0, 4.4364e-6,       0.0,       0.0,       0.0,    0.0,      0.0,       0.0,       0.0,       0.0,      0.0,      0.0,     0.0,     0.0,     0.0,      0.0,       0.0,       1.0,       0.0,       0.0,       0.0,    0.0],\n",
       "[     0.0,       0.0,       0.0,       0.0,      0.0,      0.0,     0.0,     0.0,     0.0,      0.0,       0.0,       0.0, 3.9351e-6,       0.0,       0.0,    0.0,      0.0,       0.0,       0.0,       0.0,      0.0,      0.0,     0.0,     0.0,     0.0,      0.0,       0.0,       0.0,       1.0,       0.0,       0.0,    0.0],\n",
       "[     0.0,       0.0,       0.0,       0.0,      0.0,      0.0,     0.0,     0.0,     0.0,      0.0,       0.0,       0.0,       0.0, 2.6177e-6,       0.0,    0.0,      0.0,       0.0,       0.0,       0.0,      0.0,      0.0,     0.0,     0.0,     0.0,      0.0,       0.0,       0.0,       0.0,       1.0,       0.0,    0.0],\n",
       "[     0.0,       0.0,       0.0,       0.0,      0.0,      0.0,     0.0,     0.0,     0.0,      0.0,       0.0,       0.0,       0.0,       0.0, 1.8947e-6,    0.0,      0.0,       0.0,       0.0,       0.0,      0.0,      0.0,     0.0,     0.0,     0.0,      0.0,       0.0,       0.0,       0.0,       0.0,       1.0,    0.0],\n",
       "[     0.0,       0.0,       0.0,       0.0,      0.0,      0.0,     0.0,     0.0,     0.0,      0.0,       0.0,       0.0,       0.0,       0.0,       0.0,    1.0,      0.0,       0.0,       0.0,       0.0,      0.0,      0.0,     0.0,     0.0,     0.0,      0.0,       0.0,       0.0,       0.0,       0.0,       0.0, 1.8e-9]])"
      ]
     },
     "metadata": {},
     "output_type": "display_data"
    }
   ],
   "source": [
    "view(np.abs(get(circ, nice = False)))"
   ]
  },
  {
   "cell_type": "code",
   "execution_count": 161,
   "id": "ab81f94c",
   "metadata": {},
   "outputs": [
    {
     "data": {
      "text/plain": [
       "4.000032324798296"
      ]
     },
     "execution_count": 161,
     "metadata": {},
     "output_type": "execute_result"
    }
   ],
   "source": [
    "cx_diff(get(circ, nice = False), 4)"
   ]
  },
  {
   "cell_type": "code",
   "execution_count": 162,
   "id": "3921024f",
   "metadata": {},
   "outputs": [
    {
     "data": {
      "image/png": "[encoded data removed]",
      "text/plain": [
       "<Figure size 146.797x325.08 with 1 Axes>"
      ]
     },
     "execution_count": 162,
     "metadata": {},
     "output_type": "execute_result"
    }
   ],
   "source": [
    "qc= q(5)\n",
    "qc.mct([0, 1, 2, 3], 4)\n",
    "\n",
    "milk(qc)"
   ]
  },
  {
   "cell_type": "code",
   "execution_count": 163,
   "id": "81706902",
   "metadata": {},
   "outputs": [],
   "source": [
    "b = get(qc, nice = False)"
   ]
  },
  {
   "cell_type": "code",
   "execution_count": 164,
   "id": "b79cf3bd",
   "metadata": {},
   "outputs": [],
   "source": [
    "# Change cost weighting"
   ]
  },
  {
   "cell_type": "code",
   "execution_count": null,
   "id": "8858f8a8",
   "metadata": {},
   "outputs": [],
   "source": [
    "dtp(circ)"
   ]
  },
  {
   "cell_type": "code",
   "execution_count": null,
   "id": "6f3fe8a4",
   "metadata": {},
   "outputs": [],
   "source": [
    "array([ 5.61198903,  3.52434712,  3.48247813,  2.17424838,  3.93968332,\n",
    "        1.07392755,  2.80810776,  3.95699461,  5.05239419,  2.22435202,\n",
    "        4.86973101,  0.85745189,  4.90636816,  5.29279684,  6.075291  ,\n",
    "        0.13501051,  2.32539574,  6.34871352,  3.6886369 ,  4.86403952,\n",
    "        3.43467613,  4.83377124,  4.83181499,  5.98709935,  0.60447049,\n",
    "        4.53486147,  4.13502118,  3.16651365,  6.23598464,  2.52055742,\n",
    "        1.60572711,  1.62646803,  5.32321492,  0.98002714,  2.57197608,\n",
    "        1.44794492,  2.22685202,  0.39680176,  5.27866614,  3.16244403,\n",
    "        6.04013001,  5.12269354,  2.2373655 ,  5.60283001,  5.60599754,\n",
    "        5.0934175 ,  5.21095798,  2.53766069,  2.78566524,  5.75635446,\n",
    "        3.80233445,  2.3053403 , -1.22984673,  3.94523896])"
   ]
  },
  {
   "cell_type": "code",
   "execution_count": 89,
   "id": "253ba8c4",
   "metadata": {},
   "outputs": [],
   "source": [
    "cost_list = []\n",
    "\n",
    "for i in range(0, 50_000):\n",
    "    np.random.seed(i)\n",
    "    w = np.random.uniform(low = 0, high = 2*np.pi, size = (27,))\n",
    "    cost_list.append(cost_func(w))\n",
    "    "
   ]
  },
  {
   "cell_type": "code",
   "execution_count": 90,
   "id": "28509e2e",
   "metadata": {},
   "outputs": [
    {
     "data": {
      "text/plain": [
       "0.23098600332611877"
      ]
     },
     "execution_count": 90,
     "metadata": {},
     "output_type": "execute_result"
    }
   ],
   "source": [
    "min(cost_list)"
   ]
  },
  {
   "cell_type": "code",
   "execution_count": 91,
   "id": "0237d4ce",
   "metadata": {},
   "outputs": [
    {
     "data": {
      "text/plain": [
       "(array([3607]),)"
      ]
     },
     "execution_count": 91,
     "metadata": {},
     "output_type": "execute_result"
    }
   ],
   "source": [
    "np.where((np.array(cost_list) == min(cost_list)) )"
   ]
  },
  {
   "cell_type": "code",
   "execution_count": 65,
   "id": "27d1b103",
   "metadata": {},
   "outputs": [
    {
     "data": {
      "text/plain": [
       "0.23721232185001195"
      ]
     },
     "execution_count": 65,
     "metadata": {},
     "output_type": "execute_result"
    }
   ],
   "source": [
    "cost_list[7256]"
   ]
  },
  {
   "cell_type": "code",
   "execution_count": 66,
   "id": "3b5e498d",
   "metadata": {},
   "outputs": [
    {
     "data": {
      "text/plain": [
       "0.5329746227142619"
      ]
     },
     "execution_count": 66,
     "metadata": {},
     "output_type": "execute_result"
    }
   ],
   "source": [
    "cost_list[32859]"
   ]
  },
  {
   "cell_type": "code",
   "execution_count": 92,
   "id": "8bc96c1e",
   "metadata": {},
   "outputs": [
    {
     "data": {
      "text/plain": [
       "0.23098600332611877"
      ]
     },
     "execution_count": 92,
     "metadata": {},
     "output_type": "execute_result"
    }
   ],
   "source": [
    "np.random.seed(3607)\n",
    "w = np.random.uniform(low = 0, high = 2*np.pi, size = (27,))\n",
    "cost_func(w)"
   ]
  },
  {
   "cell_type": "code",
   "execution_count": 93,
   "id": "8d449651",
   "metadata": {},
   "outputs": [
    {
     "data": {
      "text/plain": [
       "array([1.26877441, 1.94025024, 0.04166109, 3.79817765, 1.15682571,\n",
       "       4.30372471, 3.91377073, 1.19386354, 1.7595274 , 1.11882425,\n",
       "       5.94907575, 3.05037308, 6.05794917, 2.8095988 , 4.75488987,\n",
       "       0.64184606, 6.12317863, 1.25647973, 5.90915751, 2.7509485 ,\n",
       "       1.50972202, 2.00471491, 1.5710645 , 6.15926556, 3.96402098,\n",
       "       4.73478399, 3.19430392])"
      ]
     },
     "execution_count": 93,
     "metadata": {},
     "output_type": "execute_result"
    }
   ],
   "source": [
    "w"
   ]
  },
  {
   "cell_type": "code",
   "execution_count": 153,
   "id": "15bde6d2",
   "metadata": {},
   "outputs": [
    {
     "data": {
      "text/plain": [
       "4.000000000156678"
      ]
     },
     "execution_count": 153,
     "metadata": {},
     "output_type": "execute_result"
    }
   ],
   "source": [
    "np.sum(np.abs(a-b))"
   ]
  },
  {
   "cell_type": "code",
   "execution_count": 167,
   "id": "a5b0481a",
   "metadata": {},
   "outputs": [
    {
     "data": {
      "text/plain": [
       "(array([10, 10, 26, 26]), array([10, 26, 10, 26]))"
      ]
     },
     "execution_count": 167,
     "metadata": {},
     "output_type": "execute_result"
    }
   ],
   "source": [
    "np.where(np.abs(b-a) >= .5)"
   ]
  },
  {
   "cell_type": "code",
   "execution_count": null,
   "id": "22a3bcfb",
   "metadata": {},
   "outputs": [],
   "source": []
  }
 ],
 "metadata": {
  "kernelspec": {
   "display_name": "Python 3",
   "language": "python",
   "name": "python3"
  },
  "language_info": {
   "codemirror_mode": {
    "name": "ipython",
    "version": 3
   },
   "file_extension": ".py",
   "mimetype": "text/x-python",
   "name": "python",
   "nbconvert_exporter": "python",
   "pygments_lexer": "ipython3",
   "version": "3.8.3"
  }
 },
 "nbformat": 4,
 "nbformat_minor": 5
}
