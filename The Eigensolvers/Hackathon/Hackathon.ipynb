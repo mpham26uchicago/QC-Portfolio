{
 "cells": [
  {
   "cell_type": "markdown",
   "id": "b700bf06",
   "metadata": {},
   "source": [
    "### Introduction"
   ]
  },
  {
   "cell_type": "markdown",
   "id": "62728c15",
   "metadata": {},
   "source": [
    "Welcome to the Eigensolvers Quantum School Hackathon. In this notebook are 4 problems covering all the material covered in the lectures. These problems has been designed for people coming from all different levels of experience in quantum computing. You will get different certificate based on which problems you completed:\n",
    "\n",
    "- First two: Beginner\n",
    "- First three: Intermediate\n",
    "- All four: Advanced\n",
    "\n",
    "There are also prizes for the winners of the hackathon:\n",
    "\n",
    "- First Place: RasQberry - Premium\n",
    "- Second Place: RasQberry - All Inclusive\n",
    "- Third Place: RasQberry - Customizable DIY Kit\n",
    "- Fourth Place: Nielsen and Chuang\n",
    "\n",
    "The ranking will be based on the weighted cost of the solutions for problem 3 and problem 4. \n",
    "\n",
    "The deadline for submission is Sunday 7pm (Indian Standard Time). Remember, the ultimate goal is to have fun and learn some quantum computing while you're at it. All the best!"
   ]
  },
  {
   "cell_type": "markdown",
   "id": "91316cb8",
   "metadata": {},
   "source": [
    "### Import"
   ]
  },
  {
   "cell_type": "code",
   "execution_count": null,
   "id": "ab889a65",
   "metadata": {},
   "outputs": [],
   "source": [
    "from helper import *\n",
    "from grader import *"
   ]
  },
  {
   "cell_type": "markdown",
   "id": "407d4b0a",
   "metadata": {},
   "source": [
    "### Pre-Requisites"
   ]
  },
  {
   "cell_type": "markdown",
   "id": "60a27d49",
   "metadata": {},
   "source": [
    "###### Note that this notebook is written entirely in little-edian notation\n",
    "\n",
    "The standard gates set in quantum literature uses CX and U gates. They are defined in terms of matrices, which represents their actions on basis states. $U$ gates are parameterized single-qubit local gates\n",
    "\n",
    "\n",
    "$$U\\big{(}\\theta, \\phi, \\lambda\\big{)} = \\begin{bmatrix} \\cos\\big{(}\\frac{\\theta}{2}\\big{)} & -e^{i\\lambda}\\sin\\big{(}\\frac{\\theta}{2}\\big{)} \\\\ e^{i\\phi}\\sin\\big{(}\\frac{\\theta}{2}\\big{)} & e^{i(\\phi+\\lambda)}\\cos\\big{(}\\frac{\\theta}{2}\\big{)}\\end{bmatrix}$$\n",
    "\n",
    "Whereas $CX$ are two-qubit entangler gates.\n",
    "\n",
    "$$CX = \\begin{bmatrix} 1&0&0&0&0&0&0&0 \\\\ 0&1&0&0&0&0&0&0 \\\\ 0&0&1&0&0&0&0&0 \\\\ 0&0&0&0&0&0&0&1 \\\\ 0&0&0&0&1&0&0&0 \\\\ 0&0&0&0&0&1&0&0 \\\\ 0&0&0&0&0&0&1&0 \\\\ 0&0&0&1&0&0&0&0\\end{bmatrix}$$\n",
    "\n",
    "Some notable $U$ gates include:\n",
    "\n",
    "$$U(0, 0, 0) = I, \\quad U(\\pi, 0, \\pi) = X, \\quad U(\\frac{\\pi}{2}, 0, -\\frac{\\pi}{2}) = H$$\n",
    "\n",
    "$$U(0, 0, \\pi) = Z, \\quad U(0, 0, \\frac{\\pi}{2}) = S, \\quad U(0, 0, \\frac{\\pi}{4}) = T$$\n",
    "\n",
    "Note that the bottom three gates are collectively called phase gates, defined as\n",
    "\n",
    "$$P(\\alpha) = U(0, 0, \\alpha) = \\begin{bmatrix} 1&0 \\\\ 0&e^{i\\alpha} \\end{bmatrix}$$"
   ]
  },
  {
   "cell_type": "markdown",
   "id": "ef434b32",
   "metadata": {},
   "source": [
    "### Problem 1: Inter-Basis Computation"
   ]
  },
  {
   "cell_type": "markdown",
   "id": "106572ff",
   "metadata": {},
   "source": [
    "One of the novelty of quantum computing over classical computing is the expansive state space that it has access to for computation. Whereas a classical bit is a binary system, qubits operates within the complex 2D Hilbert. This offers the advantage of quantum superposition, which allows for parallel computation of an exponential number of state at the same time. \n",
    "\n",
    "$$|\\psi\\rangle = \\alpha|0\\rangle + \\beta|1\\rangle$$\n",
    "\n",
    "The majority of quantum algorithm employs superposition by computing in a different basis. For example, in both Shor's factoring, and Grover's search algorithm. The $n$-qubits circuit starts out with $n$ Hadmard gate in parralel, with the intention of transforming the qubits from the $Z$ basis to the $X$ basis.\n",
    "\n",
    "As a quantum computing scientist, it is important to know how to take advantage of basis-equivalence computation. This when a gate in basis A has the same action on an intial state as another gate in basis B. In the $X$-basis, we have two identities for basis-equivalence gates. These are widely used in phase-kickback oracle and multi-qubit gates decomposition.\n",
    "\n",
    "$$HZH = X, \\quad HXH = Z$$"
   ]
  },
  {
   "cell_type": "markdown",
   "id": "c8553b4c",
   "metadata": {},
   "source": [
    "### Exercise"
   ]
  },
  {
   "cell_type": "markdown",
   "id": "af0e7645",
   "metadata": {},
   "source": [
    "###### 1a. Given $3$ arbitrary unitary matrices $A, B, C$, find a triplet of unique unitary matrices $T, V, W$ that satisfies\n",
    "\n",
    "$$ABC = H(TVW)H$$\n",
    "\n",
    "where $H$ is the Hadamard matrix"
   ]
  },
  {
   "cell_type": "code",
   "execution_count": null,
   "id": "8c74f338",
   "metadata": {},
   "outputs": [],
   "source": [
    "t1, t2, t3, p1, p2, p3, l1, l2, l3 = np.random.uniform(0, 2*np.pi, (9,))\n",
    "\n",
    "A = U(t1, p1, l1)\n",
    "B = U(t2, p2, l2)\n",
    "C = U(t3, p3, l3)\n",
    "\n",
    "### WRITE YOUR CODE HERE\n",
    "\n",
    "T = \n",
    "V = \n",
    "W = \n",
    "\n",
    "### END CODE"
   ]
  },
  {
   "cell_type": "markdown",
   "id": "7b0e444c",
   "metadata": {},
   "source": [
    "###### Grader"
   ]
  },
  {
   "cell_type": "code",
   "execution_count": null,
   "id": "3132d819",
   "metadata": {},
   "outputs": [],
   "source": [
    "grader1a(A, B, C, T, V, W)"
   ]
  },
  {
   "cell_type": "markdown",
   "id": "6598e6c6",
   "metadata": {},
   "source": [
    "##### 1b. Given arbitrary unitary matrices $A, B, C, D, E, F $, find unitary matrices $H, I, J, K, L, M$, such that \n",
    "\n",
    "$$ABCDEF = V(HIJKLM)V^{\\dagger}$$\n",
    "\n",
    "where $V = \\begin{bmatrix} 0 & -\\frac{\\sqrt{2}}{2}-\\frac{\\sqrt{2}}{2}i \\\\ i & 0\\end{bmatrix}$"
   ]
  },
  {
   "cell_type": "code",
   "execution_count": null,
   "id": "fddb0861",
   "metadata": {},
   "outputs": [],
   "source": [
    "t1, t2, t3, t4, t5, t6, p1, p2, p3, p4, p5, p6, l1, l2, l3, l4, l5, l6  = np.random.uniform(0, 2*np.pi, (18,))\n",
    "\n",
    "A = U(t1, p1, l1)\n",
    "B = U(t2, p2, l2)\n",
    "C = U(t3, p3, l3)\n",
    "D = U(t4, p4, l4)\n",
    "E = U(t5, p5, l5)\n",
    "F = U(t6, p6, l6)\n",
    "\n",
    "### WRITE YOUR CODE HERE\n",
    "\n",
    "H = \n",
    "I =\n",
    "J = \n",
    "K = \n",
    "L = \n",
    "M = \n",
    "\n",
    "### END CODE"
   ]
  },
  {
   "cell_type": "markdown",
   "id": "9c044ad3",
   "metadata": {},
   "source": [
    "###### Grader"
   ]
  },
  {
   "cell_type": "code",
   "execution_count": null,
   "id": "367f1c2f",
   "metadata": {},
   "outputs": [],
   "source": [
    "grader1b(A, B, C, D, E, F, H, I, J, K, L, M)"
   ]
  },
  {
   "cell_type": "markdown",
   "id": "dc1e611b",
   "metadata": {},
   "source": [
    "### Problem 2: Correlated Qubits"
   ]
  },
  {
   "cell_type": "markdown",
   "id": "80e9104d",
   "metadata": {},
   "source": [
    "A popular analogy of the probabilistic behavior of qubits are coin flips. When you flip a coin, the coin lands on heads $50\\%$ of the time and tails $50\\%$ of the time. But why don't build computers out of flipping coins. The reason for this is that coin flips are independent events, whereas in computations, you sometime needs your information to interact in correlated ways. \n",
    "\n",
    "As shown in lecture 1, a single qubit $|a\\rangle$ is represented as a vector in the two-dimensional Hilbert space $\\mathcal{H}_2$. In lecture 2, we see that the state of two independent qubits $|a\\rangle, |b\\rangle$ is represented as the tensor product $|a\\rangle \\otimes |b\\rangle$, or $|a\\rangle|b\\rangle$. These tensor product states, however only covers a subspace of the 4-dimensional Hilbert space $\\mathcal{H}_4$. This means that there exists vectors in $\\mathcal{H}_4$ that cannot be described as a tensor product of two vectors in $\\mathcal{H}_2$. An example of this is the Bell state $|\\phi^{+}\\rangle$.\n",
    "\n",
    "$$|\\phi^{+}\\rangle = \\frac{1}{\\sqrt{2}}|00\\rangle + \\frac{1}{\\sqrt{2}}|11\\rangle$$"
   ]
  },
  {
   "cell_type": "markdown",
   "id": "9fb9eae4",
   "metadata": {},
   "source": [
    "### Exercise"
   ]
  },
  {
   "cell_type": "markdown",
   "id": "48bca2c2",
   "metadata": {},
   "source": [
    "##### 2. Design a circuit made of $3$ qubits $(q_0, q_1, q_2)$, all initialized in the $|+\\rangle$ states, such that whenever\n",
    "\n",
    "- $q_0$ measure $|0\\rangle$, \n",
    "\n",
    "$$q_1 \\text{ measures } |0\\rangle \\: \\& \\: q_2 \\text{ measures } |1\\rangle$$\n",
    "\n",
    "- $q_0$ measures $|1\\rangle$, \n",
    "\n",
    "$$q_1 \\text{ measures } |1\\rangle \\: \\& \\: q_2 \\text{ measures } |0\\rangle$$\n",
    "\n",
    "Using the standard gates set $U, CX$.\n",
    "\n",
    "The cost of the circuit is calculated by\n",
    "\n",
    "$$cost = 10n_{cx} + n_{\\text{local gates}}$$"
   ]
  },
  {
   "cell_type": "code",
   "execution_count": null,
   "id": "e11134f0",
   "metadata": {},
   "outputs": [],
   "source": [
    "circ = QuantumCircuit(3, 3)\n",
    "circ.h([0, 1, 2])\n",
    "\n",
    "### WRITE YOUR CODE HERE\n",
    "\n",
    "\n",
    "### END CODE"
   ]
  },
  {
   "cell_type": "markdown",
   "id": "d0624391",
   "metadata": {},
   "source": [
    "###### View Circuit"
   ]
  },
  {
   "cell_type": "code",
   "execution_count": null,
   "id": "28d36c7f",
   "metadata": {},
   "outputs": [],
   "source": [
    "circ.draw('mpl')"
   ]
  },
  {
   "cell_type": "markdown",
   "id": "26ba3472",
   "metadata": {},
   "source": [
    "###### Measure Circuit"
   ]
  },
  {
   "cell_type": "code",
   "execution_count": null,
   "id": "7448f73a",
   "metadata": {},
   "outputs": [],
   "source": [
    "### DON'T EDIT ANYTHING\n",
    "\n",
    "qc = QuantumCircuit(3, 3)\n",
    "\n",
    "qc = circ.copy(qc)\n",
    "\n",
    "qc.barrier()\n",
    "\n",
    "qc.measure([0, 1, 2], [0, 1, 2])\n",
    "\n",
    "sim(qc)"
   ]
  },
  {
   "cell_type": "markdown",
   "id": "1101e665",
   "metadata": {},
   "source": [
    "###### Grader"
   ]
  },
  {
   "cell_type": "code",
   "execution_count": null,
   "id": "115edc3f",
   "metadata": {},
   "outputs": [],
   "source": [
    "grader2(circ)"
   ]
  },
  {
   "cell_type": "markdown",
   "id": "63c25c06",
   "metadata": {},
   "source": [
    "### Problem 3: The Quantum Oracle"
   ]
  },
  {
   "cell_type": "markdown",
   "id": "babd5c4a",
   "metadata": {},
   "source": [
    "A feature of many quantum algorithm is the oracle, also called a black box function. This is a series of gates, whose exact composition we don't know, but what we do know is its general action on any arbitrary states of its input. We have cover the Deutsch's oracle in lecture 4. This was the first quantum algorithm, and more importantly it was the first demonstration of quantum computing supremacy. Other oracular algorithms extend on Deutsch's idea of parallel computation of all the basis states. These includes the Bernstein-Vazirani modular sum algorithm, the Grover's search algorithm and the Shor's prime factoring algorithm.\n",
    "\n",
    "In this exercise, we will be implementing an oracle. This means that we translate its general actions into a series of specific gates that we can run on a quantum computer."
   ]
  },
  {
   "cell_type": "markdown",
   "id": "67bedcb6",
   "metadata": {},
   "source": [
    "### Exercise"
   ]
  },
  {
   "cell_type": "markdown",
   "id": "d8a1c64e",
   "metadata": {},
   "source": [
    "#### 3. Design an oracle $U_f$ which implements the function $f$ on 5 qubits such that \n",
    "\n",
    "$$f(|q_0q_1q_2q_3q_4)\\rangle = e^{i\\theta_x}|q_0\\bar{q_1}q_2\\bar{q_3}\\rangle|(\\bar{q_0}\\wedge q_1 \\wedge \\bar{q_2} \\wedge q_3)\\oplus q_4 \\rangle$$\n",
    "\n",
    "where $\\bar{q_i}$ is the bit-flipped of $q_i$ and $e^{i\\theta_x}$ is an arbitrary relative phase depending on the input using the standard gate set with the lowerst cost possible calculated by the cost function\n",
    "\n",
    "$$cost = 20n_{\\text{ancilla}} + 10n_{\\text{cx}} + n_{\\text{local gates}} $$"
   ]
  },
  {
   "cell_type": "code",
   "execution_count": null,
   "id": "d719d091",
   "metadata": {},
   "outputs": [],
   "source": [
    "no_qubits = \n",
    "\n",
    "circ = QuantumCircuit(no_qubits)\n",
    "\n",
    "### WRITE YOUR CODE HERE\n",
    "\n",
    "\n",
    "### END CODE"
   ]
  },
  {
   "cell_type": "markdown",
   "id": "44d800a1",
   "metadata": {},
   "source": [
    "###### View Circuit"
   ]
  },
  {
   "cell_type": "code",
   "execution_count": null,
   "id": "cbe25825",
   "metadata": {},
   "outputs": [],
   "source": [
    "circ.draw('mpl')"
   ]
  },
  {
   "cell_type": "code",
   "execution_count": null,
   "id": "7fc24d81",
   "metadata": {},
   "outputs": [],
   "source": [
    "grader3(circ)"
   ]
  },
  {
   "cell_type": "markdown",
   "id": "02b63dca",
   "metadata": {},
   "source": [
    "### Problem 4: Fun with Quantum"
   ]
  },
  {
   "cell_type": "markdown",
   "id": "09be27c7",
   "metadata": {},
   "source": [
    "In the last exercise we will be implementing some classical function with quantum gates. This is something the Eigensolvers do everyday to help us gain an intuition of quantum circuits. The point here is not just to solve the problem, that's easy enough to do. What we're looking at here is the most optimized circuit, so you need to bring everything you know about circuit identities in here and try to be creative and get the lowest cost possible. "
   ]
  },
  {
   "cell_type": "markdown",
   "id": "eb2661be",
   "metadata": {},
   "source": [
    "#### 4. Given the following mapping of computational basis, find the least expensive $3$-qubits circuit that performs the same mapping using only $CCX, CX, U$ gates. Note that relative phase for output ARE allowed!\n",
    "\n",
    "The total cost will combined gates from all $3$ mappings, using the metric.\n",
    "\n",
    "$$cost = 60n_{ccx} + 10n_{cx} + n_{\\text{local gates}}$$\n",
    "\n",
    "##### Mapping a)\n",
    "\n",
    "$$000 ---> 100$$\n",
    "$$001 ---> 011$$\n",
    "$$010 ---> 110$$\n",
    "$$011 ---> 001$$\n",
    "$$100 ---> 000$$\n",
    "$$101 ---> 111$$\n",
    "$$110 ---> 010$$\n",
    "$$111 ---> 101$$"
   ]
  },
  {
   "cell_type": "code",
   "execution_count": null,
   "id": "a458fcdd",
   "metadata": {},
   "outputs": [],
   "source": [
    "circ = QuantumCircuit(3)\n",
    "\n",
    "### WRITE YOUR CODE HERE\n",
    "\n",
    "\n",
    "### END CODE"
   ]
  },
  {
   "cell_type": "markdown",
   "id": "dd0f48b5",
   "metadata": {},
   "source": [
    "###### View Circuit"
   ]
  },
  {
   "cell_type": "code",
   "execution_count": null,
   "id": "58461f21",
   "metadata": {},
   "outputs": [],
   "source": [
    "circ.draw('mpl')"
   ]
  },
  {
   "cell_type": "markdown",
   "id": "5e8e966c",
   "metadata": {},
   "source": [
    "###### Grader"
   ]
  },
  {
   "cell_type": "code",
   "execution_count": null,
   "id": "b6b44927",
   "metadata": {},
   "outputs": [],
   "source": [
    "grader4a(circ)"
   ]
  },
  {
   "cell_type": "markdown",
   "id": "57ef5a6b",
   "metadata": {},
   "source": [
    "##### Mapping b)\n"
   ]
  },
  {
   "cell_type": "markdown",
   "id": "26987a3d",
   "metadata": {},
   "source": [
    "$$000 ---> 100$$\n",
    "$$001 ---> 001$$\n",
    "$$010 ---> 110$$\n",
    "$$011 ---> 011$$\n",
    "$$100 ---> 111$$\n",
    "$$101 ---> 010$$\n",
    "$$110 ---> 101$$\n",
    "$$111 ---> 000$$"
   ]
  },
  {
   "cell_type": "code",
   "execution_count": null,
   "id": "37ec93c8",
   "metadata": {},
   "outputs": [],
   "source": [
    "circ = QuantumCircuit(3)\n",
    "\n",
    "### WRITE YOUR CODE HERE\n",
    "\n",
    "\n",
    "### END CODE"
   ]
  },
  {
   "cell_type": "markdown",
   "id": "f15f4899",
   "metadata": {},
   "source": [
    "###### View Circuit"
   ]
  },
  {
   "cell_type": "code",
   "execution_count": null,
   "id": "854d6c3c",
   "metadata": {},
   "outputs": [],
   "source": [
    "circ.draw('mpl')"
   ]
  },
  {
   "cell_type": "markdown",
   "id": "81a3ff2f",
   "metadata": {},
   "source": [
    "###### Grader"
   ]
  },
  {
   "cell_type": "code",
   "execution_count": null,
   "id": "cc4d162d",
   "metadata": {},
   "outputs": [],
   "source": [
    "grader4b(circ)"
   ]
  },
  {
   "cell_type": "markdown",
   "id": "829f6adb",
   "metadata": {},
   "source": [
    "###### Mapping c)\n",
    "\n",
    "$$000 ---> 001$$\n",
    "$$001 ---> 101$$\n",
    "$$010 ---> 100$$\n",
    "$$011 ---> 011$$\n",
    "$$100 ---> 010$$\n",
    "$$101 ---> 110$$\n",
    "$$110 ---> 000$$\n",
    "$$111 ---> 111$$"
   ]
  },
  {
   "cell_type": "code",
   "execution_count": null,
   "id": "06851ae3",
   "metadata": {},
   "outputs": [],
   "source": [
    "circ = QuantumCircuit(3)\n",
    "\n",
    "### WRITE YOUR CODE HERE\n",
    "\n",
    "\n",
    "### END CODE"
   ]
  },
  {
   "cell_type": "markdown",
   "id": "49d10448",
   "metadata": {},
   "source": [
    "###### View Circuit"
   ]
  },
  {
   "cell_type": "code",
   "execution_count": null,
   "id": "be5e879c",
   "metadata": {},
   "outputs": [],
   "source": [
    "circ.draw('mpl')"
   ]
  },
  {
   "cell_type": "markdown",
   "id": "5b8b8ff8",
   "metadata": {},
   "source": [
    "###### Grader"
   ]
  },
  {
   "cell_type": "code",
   "execution_count": null,
   "id": "417c0cf0",
   "metadata": {},
   "outputs": [],
   "source": [
    "grader4c(circ)"
   ]
  },
  {
   "cell_type": "markdown",
   "id": "af18cb92",
   "metadata": {},
   "source": [
    "### Solutions Submission"
   ]
  },
  {
   "cell_type": "markdown",
   "id": "cec71320",
   "metadata": {},
   "source": [
    "Submit your solution to Problem 3 and Problem 4 here. You can submit multiple times so as soon as you have a solution, submit. The highest score will be posted the throughout the hackathon.\n",
    "\n",
    "Submission link: https://forms.gle/9xX1QGdjtDyy9TLn9"
   ]
  }
 ],
 "metadata": {
  "kernelspec": {
   "display_name": "Python 3",
   "language": "python",
   "name": "python3"
  },
  "language_info": {
   "codemirror_mode": {
    "name": "ipython",
    "version": 3
   },
   "file_extension": ".py",
   "mimetype": "text/x-python",
   "name": "python",
   "nbconvert_exporter": "python",
   "pygments_lexer": "ipython3",
   "version": "3.8.8"
  }
 },
 "nbformat": 4,
 "nbformat_minor": 5
}
