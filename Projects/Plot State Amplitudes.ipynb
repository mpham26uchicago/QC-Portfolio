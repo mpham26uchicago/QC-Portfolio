{
 "cells": [
  {
   "cell_type": "code",
   "execution_count": 5,
   "metadata": {},
   "outputs": [],
   "source": [
    "import numpy as np\n",
    "from itertools import product\n",
    "import matplotlib.pyplot as plt\n",
    "\n",
    "from qiskit.visualization import *\n",
    "from qiskit.quantum_info import *\n",
    "from qiskit.circuit.library import *"
   ]
  },
  {
   "cell_type": "code",
   "execution_count": 6,
   "metadata": {},
   "outputs": [],
   "source": [
    "import colorsys\n",
    "import matplotlib.gridspec as gridspec\n",
    "from matplotlib.patches import Circle\n",
    "import seaborn as sns\n",
    "\n",
    "def phase_to_rgb(complex_number):\n",
    "    \"\"\"Map a phase of a complexnumber to a color in (r,g,b).\n",
    "\n",
    "    complex_number is phase is first mapped to angle in the range\n",
    "    [0, 2pi] and then to the HSL color wheel\n",
    "    \"\"\"\n",
    "    angles = (np.angle(complex_number) + np.pi + np.pi/6) % (np.pi * 2)\n",
    "    rgb = colorsys.hls_to_rgb(angles / (np.pi * 2), 0.5, 0.5)\n",
    "    return rgb\n",
    "\n",
    "### Secondary Axis Defition\n",
    "amp_to_prob = lambda x: x**2\n",
    "prob_to_amp = lambda x: np.sqrt(x)"
   ]
  },
  {
   "cell_type": "markdown",
   "metadata": {},
   "source": [
    "### Polar Representation"
   ]
  },
  {
   "cell_type": "code",
   "execution_count": 51,
   "metadata": {},
   "outputs": [],
   "source": [
    "import colorsys\n",
    "import matplotlib.gridspec as gridspec\n",
    "from matplotlib.patches import Circle\n",
    "import seaborn as sns\n",
    "\n",
    "def phase_to_rgb(complex_number):\n",
    "    \"\"\"Map a phase of a complexnumber to a color in (r,g,b).\n",
    "\n",
    "    complex_number is phase is first mapped to angle in the range\n",
    "    [0, 2pi] and then to the HSL color wheel\n",
    "    \"\"\"\n",
    "    angles = (np.angle(complex_number) + np.pi + np.pi/6) % (np.pi * 2)\n",
    "    rgb = colorsys.hls_to_rgb(angles / (np.pi * 2), 0.5, 0.5)\n",
    "    return rgb\n",
    "\n",
    "### Secondary Axis Defition\n",
    "amp_to_prob = lambda x: x**2\n",
    "prob_to_amp = lambda x: np.sqrt(x)\n",
    "\n",
    "def plot_state_amp_polar(sv, use_degrees = False, title = None):\n",
    "    \"\"\"\n",
    "    Plot the Amplitude and Phase of an arbitrary statevector\n",
    "    \n",
    "    Parameters:\n",
    "    -----------\n",
    "    sv: ndarray\n",
    "        Normalized statevector with dimension 2**n\n",
    "        \n",
    "    use_degrees: bool (False)\n",
    "        Display phase circle in degrees option\n",
    "        \n",
    "    title: str (None)\n",
    "        Title of the plot\n",
    "    \n",
    "    \"\"\"\n",
    "    sv = np.squeeze(sv)\n",
    "    \n",
    "    ### Dimension of the vector\n",
    "    sv_dim = int(np.log2(max(sv.shape))) \n",
    "\n",
    "    ### Absolute Amplitude\n",
    "    amp_vec = np.squeeze(np.abs(sv))\n",
    "\n",
    "    phase_vec = np.exp(1j*np.angle(sv))\n",
    "    \n",
    "    ### Get x-axis label\n",
    "    inp_list = [''.join(output) for output in product(['0', '1'], repeat = sv_dim)]\n",
    "    \n",
    "    ### Get color\n",
    "    color_list = [phase_to_rgb(output) for output in phase_vec]\n",
    "    \n",
    "    gs = gridspec.GridSpec(nrows=6, ncols=6)\n",
    "\n",
    "    fig = plt.figure(figsize  = (10, 5))\n",
    "\n",
    "    ### Amplitude histogram\n",
    "    ax1 = fig.add_subplot(gs[:, :4])\n",
    "    ax1.set_yticks([0, .1, .2, .3, .4, .5, .6, .7 ,.8, .9, 1])\n",
    "    ax1.bar(inp_list, amp_vec, width = 0.8, align = 'center', color = color_list)\n",
    "    ax1.set_ylabel('Absolute Amplitude\\n')\n",
    "\n",
    "\n",
    "    ### Probability axis\n",
    "    ax11 = ax1.secondary_yaxis('right', functions=(amp_to_prob, prob_to_amp))\n",
    "    ax11.set_yticks([0, .1, .2, .3, .4, .5, .6, .7 ,.8, .9, 1])\n",
    "    ax11.set_ylabel('\\nProbability')\n",
    "\n",
    "\n",
    "    ### Other labels\n",
    "    #plt.xlabel('\\nComputational Basis States', loc = 'center')\n",
    "    plt.xlabel('\\nComputational Basis States')\n",
    "    plt.xticks(rotation=55, horizontalalignment='center')\n",
    "    \n",
    "    if title:\n",
    "        \n",
    "        plt.title(f'{title} \\n')\n",
    "        \n",
    "    else:\n",
    "        plt.title('Statevector Amplitudes and Phases\\n')\n",
    "        \n",
    "\n",
    "    n = 16\n",
    "    theta = np.ones(n)\n",
    "    colors = sns.hls_palette(n)\n",
    "\n",
    "    ax2 = fig.add_subplot(gs[4:, 4:])\n",
    "    ax2.pie(theta, colors=colors[5 * n // 8 :] + colors[: 5 * n // 8], radius=0.8)\n",
    "    ax2.add_artist(Circle((0, 0), 0.5, color=\"white\", zorder=1))\n",
    "    ax2.add_artist(Circle((0, 0), 0.85, color=\"black\", zorder=0.75))\n",
    "    offset = 1  # since radius of sphere is one.\n",
    "\n",
    "    if use_degrees:\n",
    "        labels = [\"Phase\", \"0\", \"90\", \"180   \", \"270\"]\n",
    "    else:\n",
    "        labels = [\"Phase\", \"$0$\", \"$\\\\pi/2$\", \"$\\\\pi$\", \"$3\\\\pi/2$\"]\n",
    "\n",
    "\n",
    "    ax2.text(0, 0, labels[0], horizontalalignment=\"center\", verticalalignment=\"center\", fontsize=10) # 'Phase'\n",
    "    ax2.text(offset+0.1, 0, labels[1], horizontalalignment=\"center\", verticalalignment=\"center\", fontsize=10) # 0\n",
    "    ax2.text(0, offset+0.1, labels[2], horizontalalignment=\"center\", verticalalignment=\"center\", fontsize=10) # pi/2\n",
    "    ax2.text(-offset-0.1, 0, labels[3], horizontalalignment=\"center\", verticalalignment=\"center\", fontsize=10) # pi\n",
    "    ax2.text(0, -offset-0.1, labels[4], horizontalalignment=\"center\", verticalalignment=\"center\", fontsize=10) #3pi/2\n",
    "    \n",
    "    plt.close()\n",
    "    \n",
    "    return fig"
   ]
  },
  {
   "cell_type": "code",
   "execution_count": 22,
   "metadata": {},
   "outputs": [
    {
     "data": {
      "image/png": "[encoded data removed]",
      "text/plain": [
       "<Figure size 720x360 with 2 Axes>"
      ]
     },
     "execution_count": 22,
     "metadata": {},
     "output_type": "execute_result"
    }
   ],
   "source": [
    "sv = random_statevector(4).data\n",
    "\n",
    "plot_state_amp_polar(sv, title = 'Statevector of U|00>')"
   ]
  },
  {
   "cell_type": "code",
   "execution_count": 32,
   "metadata": {},
   "outputs": [
    {
     "name": "stdout",
     "output_type": "stream",
     "text": [
      "Phase of each basis state: [-0.45469897  0.02780601  0.18738402 -0.33994864]\n",
      "Magnitude of each basis state: [0.25084687 0.34160199 0.43601399 0.79389907]\n"
     ]
    }
   ],
   "source": [
    "print(f\"Phase of each basis state: {np.angle(sv)/(2*np.pi)}\") # as a ratio of 2pi\n",
    "print(f\"Magnitude of each basis state: {np.abs(sv)}\")"
   ]
  },
  {
   "cell_type": "markdown",
   "metadata": {},
   "source": [
    "### Cartesian Representation"
   ]
  },
  {
   "cell_type": "code",
   "execution_count": 49,
   "metadata": {},
   "outputs": [],
   "source": [
    "def plot_state_amp_cartesian(sv, title = None):\n",
    "    \"\"\"\n",
    "    Plot the Amplitude and Phase of an arbitrary statevector\n",
    "    \n",
    "    Parameters:\n",
    "    -----------\n",
    "    sv: ndarray\n",
    "        Normalized statevector with dimension 2**n\n",
    "        \n",
    "    title: str (None)\n",
    "        Title of the plot\n",
    "    \"\"\"\n",
    "\n",
    "    sv = np.squeeze(sv)\n",
    "\n",
    "    ### Dimension of the vector\n",
    "    sv_dim = int(np.log2(max(sv.shape))) \n",
    "\n",
    "    ### Get real and imaginary component\n",
    "\n",
    "    sv_real = np.real(sv)\n",
    "    sv_imag = np.imag(sv)\n",
    "\n",
    "    ### Get x-axis label\n",
    "    inp_list = [''.join(output) for output in product(['0', '1'], repeat = sv_dim)]\n",
    "\n",
    "    gs = gridspec.GridSpec(nrows=1, ncols=8)\n",
    "\n",
    "    fig = plt.figure(figsize  = (12, 5))\n",
    "    fig.align_ylabels()\n",
    "\n",
    "    ### Real Plot\n",
    "    ax1 = fig.add_subplot(gs[:, :4])\n",
    "    ax1.bar(inp_list, sv_real, width = 0.8, align = 'center')\n",
    "\n",
    "    ax1.axhline(color = 'black')\n",
    "\n",
    "    ax1.set_ylim(-1, 1)\n",
    "    ax1.set_ylabel('\\nAmplitudes')\n",
    "    plt.title('\\nReal Component')\n",
    "    plt.xlabel('\\nComputational Basis States')\n",
    "    plt.xticks(rotation=55, horizontalalignment='center')\n",
    "\n",
    "\n",
    "    ### Imaginary Plot\n",
    "    ax2 = fig.add_subplot(gs[:, 4:])\n",
    "    ax2.bar(inp_list, sv_imag, width = 0.8, align = 'center', color = 'maroon')\n",
    "\n",
    "    ax2.axhline(color = 'black')\n",
    "    ax2.yaxis.tick_right()\n",
    "    ax2.yaxis.set_label_position(\"right\")\n",
    "\n",
    "    ax2.set_ylim(-1, 1)\n",
    "    ax2.set_ylabel('\\nAmplitudes')\n",
    "    plt.title('\\nImaginary Component')\n",
    "    plt.xlabel('\\nComputational Basis States')\n",
    "    plt.xticks(rotation=55, horizontalalignment='center')\n",
    "\n",
    "    plt.show()"
   ]
  },
  {
   "cell_type": "code",
   "execution_count": 50,
   "metadata": {},
   "outputs": [
    {
     "data": {
      "image/png": "[encoded data removed]",
      "text/plain": [
       "<Figure size 864x360 with 2 Axes>"
      ]
     },
     "metadata": {
      "needs_background": "light"
     },
     "output_type": "display_data"
    }
   ],
   "source": [
    "sv = random_statevector(4).data\n",
    "plot_state_amp_cartesian(sv)"
   ]
  },
  {
   "cell_type": "code",
   "execution_count": 48,
   "metadata": {},
   "outputs": [
    {
     "name": "stdout",
     "output_type": "stream",
     "text": [
      "Real component of each basis state: [ 0.28226348 -0.36447205 -0.13874423  0.02766195]\n",
      "Imag component of each basis state: [-0.38933999 -0.09276039  0.60532956 -0.49077318]\n"
     ]
    }
   ],
   "source": [
    "print(f\"Real component of each basis state: {np.real(sv)}\")\n",
    "print(f\"Imag component of each basis state: {np.imag(sv)}\")"
   ]
  }
 ],
 "metadata": {
  "kernelspec": {
   "display_name": "Python 3 (ipykernel)",
   "language": "python",
   "name": "python3"
  },
  "language_info": {
   "codemirror_mode": {
    "name": "ipython",
    "version": 3
   },
   "file_extension": ".py",
   "mimetype": "text/x-python",
   "name": "python",
   "nbconvert_exporter": "python",
   "pygments_lexer": "ipython3",
   "version": "3.7.4"
  }
 },
 "nbformat": 4,
 "nbformat_minor": 5
}
