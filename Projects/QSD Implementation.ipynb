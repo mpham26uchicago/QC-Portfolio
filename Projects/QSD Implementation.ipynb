{
 "cells": [
  {
   "cell_type": "code",
   "execution_count": 1217,
   "id": "f3b2c891",
   "metadata": {},
   "outputs": [],
   "source": [
    "from qiskit import *\n",
    "from qiskit.quantum_info import *\n",
    "from qiskit.circuit.library import *\n",
    "\n",
    "import numpy as np\n",
    "from numpy.testing import assert_array_almost_equal as aae\n",
    "\n",
    "from scipy.linalg import *\n",
    "\n",
    "from functools import reduce\n",
    "tensor_product = lambda *initial_state: reduce(lambda x, y: np.kron(x, y), initial_state)"
   ]
  },
  {
   "cell_type": "code",
   "execution_count": 1210,
   "id": "42d7a16b",
   "metadata": {},
   "outputs": [],
   "source": [
    "### Define Useful Matrices\n",
    "\n",
    "X = XGate().__array__()\n",
    "Y = YGate().__array__()\n",
    "Z = ZGate().__array__()\n",
    "\n",
    "H = Matrix([[1, 1], [1, -1]])\n",
    "\n",
    "Rx = lambda theta: RXGate(theta).__array__()\n",
    "Ry = lambda theta: RYGate(theta).__array__()\n",
    "Rz = lambda theta: RZGate(theta).__array__()"
   ]
  },
  {
   "cell_type": "markdown",
   "id": "4670c60a",
   "metadata": {},
   "source": [
    "### Build Multiplex $R_k$ gates (Theorem 8)"
   ]
  },
  {
   "cell_type": "code",
   "execution_count": 1291,
   "id": "b2af2b35",
   "metadata": {},
   "outputs": [],
   "source": [
    "def multiplex_cry(circ, angles, control_bit = 0, flip = False): # Build optimized multiplexed cry gate\n",
    "    \n",
    "    len_angles = len(angles)\n",
    "    no_qubits = circ.num_qubits\n",
    "    \n",
    "    if len_angles == 2 and not flip: ### Base case with Optimzation\n",
    "        circ.ry(angles[0], no_qubits-1)\n",
    "        circ.cz(no_qubits-2, no_qubits-1)\n",
    "        circ.ry(angles[1], no_qubits-1)\n",
    "        \n",
    "        if no_qubits == 2:\n",
    "            circ.cz(no_qubits-2, no_qubits-1)  \n",
    "            \n",
    "        return None\n",
    "                \n",
    "    elif len_angles == 2 and flip: ### Base case with Optimzation\n",
    "        circ.ry(angles[1], no_qubits-1)\n",
    "        circ.cz(no_qubits-2, no_qubits-1)\n",
    "        circ.ry(angles[0], no_qubits-1)\n",
    "        return None\n",
    "    \n",
    "    else: ### Recursion\n",
    "        multiplex_cry(circ, angles[:len_angles//2], control_bit+1, flip = False)\n",
    "        circ.cz(control_bit, no_qubits - 1)\n",
    "        multiplex_cry(circ, angles[len_angles//2:], control_bit+1, flip = True)\n",
    "        circ.cz(control_bit, no_qubits - 1)\n",
    "\n",
    "def multiplex_crz(circ, angles, control_bit = 0, flip = False): # Build optimized multiplexed crz gate\n",
    "    \n",
    "    len_angles = len(angles)\n",
    "    no_qubits = circ.num_qubits\n",
    "    \n",
    "    if len_angles == 2 and not flip: ### Base case with Optimzation\n",
    "        circ.rz(angles[0], no_qubits-1)\n",
    "        circ.cx(no_qubits-2, no_qubits-1)\n",
    "        circ.rz(angles[1], no_qubits-1)\n",
    "        \n",
    "        if no_qubits == 2:\n",
    "            circ.cx(no_qubits-2, no_qubits-1)\n",
    "            \n",
    "        return None\n",
    "    \n",
    "    elif len_angles == 2 and flip: ### Base case with Optimzation\n",
    "        \n",
    "        circ.rz(angles[1], no_qubits-1)\n",
    "        circ.cx(no_qubits-2, no_qubits-1)\n",
    "        circ.rz(angles[0], no_qubits-1)\n",
    "        return None\n",
    "    \n",
    "    else: ### Recursion\n",
    "        multiplex_crz(circ, angles[:len_angles//2], control_bit+1, flip = False)\n",
    "        circ.cx(control_bit, no_qubits - 1)\n",
    "        multiplex_crz(circ, angles[len_angles//2:], control_bit+1, flip = True)\n",
    "        circ.cx(control_bit, no_qubits - 1)"
   ]
  },
  {
   "cell_type": "markdown",
   "id": "483fdc54",
   "metadata": {},
   "source": [
    "### Modified Angles as Linear Combinations"
   ]
  },
  {
   "cell_type": "code",
   "execution_count": 1292,
   "id": "d366f09b",
   "metadata": {},
   "outputs": [],
   "source": [
    "def modified_angles(angles):\n",
    "    hadamard = np.array([[1, 1], [1, -1]])\n",
    "    \n",
    "    dim = int(np.log2(len(angles)))\n",
    "    coef_mat = tensor_product(*[hadamard]*dim) # Tensor Product of Hadamard\n",
    "    modified_angles = angles@coef_mat / 2**dim\n",
    "    \n",
    "    return modified_angles"
   ]
  },
  {
   "cell_type": "markdown",
   "id": "e4bde230",
   "metadata": {},
   "source": [
    "### Test Implementation of Theorem 8"
   ]
  },
  {
   "cell_type": "code",
   "execution_count": 1293,
   "id": "54fd5902",
   "metadata": {},
   "outputs": [],
   "source": [
    "no_qubits = 4\n",
    "\n",
    "m = 2**(no_qubits-1)\n",
    "angles = np.random.randn(m)\n",
    "\n",
    "circ = QuantumCircuit(no_qubits)\n",
    "multiplex_cry(circ, modified_angles(angles))\n",
    "\n",
    "aae(Operator(circ.reverse_bits()).data, block_diag(*[Ry(angle) for angle in angles]))\n",
    "\n",
    "#circ.reverse_bits().draw('mpl')"
   ]
  },
  {
   "cell_type": "markdown",
   "id": "a91db855",
   "metadata": {},
   "source": [
    "### Implementing General Unitary Operator"
   ]
  },
  {
   "cell_type": "code",
   "execution_count": 1294,
   "id": "cf689a53",
   "metadata": {},
   "outputs": [],
   "source": [
    "def one_level_decomp(U): \n",
    "    \n",
    "    '''Perform Matrix Shannon-Decomposition''' \n",
    "    \n",
    "    n = int(np.log2(len(U)))\n",
    "\n",
    "    ### Decompose U (Eq. 1)\n",
    "    B, CS, A = cossin(U, p=2**(n-1), q=2**(n-1))\n",
    "    A1, A2 = A[:2**(n-1), :2**(n-1)], A[2**(n-1):, 2**(n-1):]\n",
    "    B1, B2 = B[:2**(n-1), :2**(n-1)], B[2**(n-1):, 2**(n-1):]\n",
    "    \n",
    "    ### Decompose B  (Eq. 2)\n",
    "    U4, DB = diagonalize(B1@dagger(B2))\n",
    "    DB = np.sqrt(DB)\n",
    "    U3 = DB@dagger(U4)@B2\n",
    "\n",
    "    ### Decompose A  (Eq. 2)\n",
    "    U2, DA = diagonalize(A1@dagger(A2))\n",
    "    DA = np.sqrt(DA)\n",
    "    U1 = DA@dagger(U2)@A2\n",
    "    \n",
    "    return U4, DB, U3, CS, U2, DA, U1"
   ]
  },
  {
   "cell_type": "code",
   "execution_count": 1295,
   "id": "b5dd0091",
   "metadata": {},
   "outputs": [],
   "source": [
    "### Helpful Linear Algebra Functions\n",
    "\n",
    "def diagonalize(mat):\n",
    "    \n",
    "    '''Function to Diagonalize Square Matrices'''\n",
    "    \n",
    "    eig_val, eig_vec = np.linalg.eig(mat)\n",
    "    D = np.diag(eig_val)\n",
    "    V = np.block(eig_vec)\n",
    "    \n",
    "    return V, D\n",
    "\n",
    "dagger = lambda mat: np.conj(mat).T  # Conjugate Transpose of a Matrix"
   ]
  },
  {
   "cell_type": "code",
   "execution_count": 1353,
   "id": "4db3e80a",
   "metadata": {},
   "outputs": [],
   "source": [
    "def QSD(circ, unitary_matrix, iteration_qubits):\n",
    "    \n",
    "    '''Build Circuit based on Quantum Shannon-Decomposition'''\n",
    "    \n",
    "    if circ.num_qubits == 1: ### Non-recursion Base Case\n",
    "        circ.unitary(unitary_matrix, 0)\n",
    "        return None\n",
    "    \n",
    "    elif circ.num_qubits == 2 or iteration_qubits == 2: ### Non-recursion Base Case\n",
    "        circ.unitary(unitary_matrix, [0, 1], 'Two-Qubits')\n",
    "        return None\n",
    "    \n",
    "    else:\n",
    "        \n",
    "        U4, DB, U3, CS, U2, DA, U1 = one_level_decomp(unitary_matrix)\n",
    "\n",
    "        QSD(circ, U1, iteration_qubits-1)\n",
    "\n",
    "        angles_DA = modified_angles(np.angle(np.diag(DA))*-2)\n",
    "        \n",
    "        DA_circ = QuantumCircuit(iteration_qubits)\n",
    "        multiplex_crz(DA_circ, angles_DA)\n",
    "        DA_circ.name = ' Multiplex Rz'\n",
    "        circ.append(DA_circ, list(reversed(range(iteration_qubits-1))) + [iteration_qubits-1])\n",
    "        \n",
    "        QSD(circ, U2, iteration_qubits-1)\n",
    "\n",
    "        size = int(np.log2(len(CS)))\n",
    "        angles_CS = modified_angles(np.array([np.arctan2(CS[2**(size-1) + i, i], CS[i, i])*2 for i in range(2**(size-1))]))\n",
    "        CS_circ = QuantumCircuit(iteration_qubits)\n",
    "        multiplex_cry(CS_circ, angles_CS)\n",
    "        CS_circ.name = ' Multiplex Ry'\n",
    "        circ.append(CS_circ, list(reversed(range(iteration_qubits-1))) + [iteration_qubits-1])\n",
    "\n",
    "        QSD(circ, U3, iteration_qubits-1)\n",
    "\n",
    "        angles_DB = modified_angles(np.angle(np.diag(DB))*-2)\n",
    "        DB_circ = QuantumCircuit(iteration_qubits)\n",
    "        multiplex_crz(DB_circ, angles_DB)\n",
    "        DB_circ.name = ' Multiplex Rz'\n",
    "        circ.append(DB_circ, list(reversed(range(iteration_qubits-1))) + [iteration_qubits-1])\n",
    "\n",
    "        QSD(circ, U4, iteration_qubits-1)"
   ]
  },
  {
   "cell_type": "code",
   "execution_count": 1354,
   "id": "1edb82fd",
   "metadata": {
    "scrolled": true
   },
   "outputs": [
    {
     "data": {
      "image/png": "[encoded data removed]",
      "text/plain": [
       "<Figure size 1591.6x1167.88 with 1 Axes>"
      ]
     },
     "execution_count": 1354,
     "metadata": {},
     "output_type": "execute_result"
    }
   ],
   "source": [
    "no_qubits = 4\n",
    "unitary_matrix = random_unitary(2**no_qubits).data\n",
    "\n",
    "circ = QuantumCircuit(no_qubits)\n",
    "QSD(circ, unitary_matrix, no_qubits)\n",
    "circ.draw('mpl')"
   ]
  },
  {
   "cell_type": "markdown",
   "id": "fbb7c5b3",
   "metadata": {},
   "source": [
    "### Compare Performance with Qiskit's"
   ]
  },
  {
   "cell_type": "code",
   "execution_count": 1355,
   "id": "01174cf6",
   "metadata": {},
   "outputs": [
    {
     "name": "stdout",
     "output_type": "stream",
     "text": [
      "no_qubits: 2\n",
      "Qiskit: 3\n",
      "Ours: 3\n",
      "\n",
      "\n",
      "no_qubits: 3\n",
      "Qiskit: 41\n",
      "Ours: 24\n",
      "\n",
      "\n",
      "no_qubits: 4\n",
      "Qiskit: 218\n",
      "Ours: 126\n",
      "\n",
      "\n",
      "no_qubits: 5\n",
      "Qiskit: 1025\n",
      "Ours: 570\n",
      "\n",
      "\n",
      "no_qubits: 6\n",
      "Qiskit: 4474\n",
      "Ours: 2418\n",
      "\n",
      "\n"
     ]
    }
   ],
   "source": [
    "for no_qubits in range(2, 7):\n",
    "    print('no_qubits:', no_qubits)\n",
    "    unitary_matrix = random_unitary(2**no_qubits).data\n",
    "    qc = QuantumCircuit(no_qubits)\n",
    "    qc.unitary(unitary_matrix, range(no_qubits))\n",
    "    print('Qiskit:', transpile(qc, basis_gates = ['cx', 'u'], optimization_level = 3).count_ops()['cx'])\n",
    "\n",
    "    circ = QuantumCircuit(no_qubits)\n",
    "    QSD(circ, unitary_matrix, no_qubits)\n",
    "    aae(Operator(circ).data, unitary_matrix) ## Check Accuracy\n",
    "    print('Ours:', transpile(circ, basis_gates = ['cx', 'u'], optimization_level = 3).count_ops()['cx'])\n",
    "    print('\\n')"
   ]
  }
 ],
 "metadata": {
  "kernelspec": {
   "display_name": "Python 3",
   "language": "python",
   "name": "python3"
  },
  "language_info": {
   "codemirror_mode": {
    "name": "ipython",
    "version": 3
   },
   "file_extension": ".py",
   "mimetype": "text/x-python",
   "name": "python",
   "nbconvert_exporter": "python",
   "pygments_lexer": "ipython3",
   "version": "3.8.3"
  }
 },
 "nbformat": 4,
 "nbformat_minor": 5
}
